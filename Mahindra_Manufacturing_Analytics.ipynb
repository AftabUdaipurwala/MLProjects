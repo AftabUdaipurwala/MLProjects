{
  "nbformat": 4,
  "nbformat_minor": 0,
  "metadata": {
    "colab": {
      "name": "Mahindra Manufacturing Analytics.ipynb",
      "provenance": [],
      "collapsed_sections": [
        "1OftOZvF2O1V",
        "qwIVvlK014Un",
        "wg7oLA4K2cbT",
        "VqclPklT2pBa",
        "QcTGxADB3jTt",
        "9Sms-VtYaa-4",
        "3q3hGWk3bH_X",
        "R21ws1nEAMNH",
        "n8R0ZVyHQAZ7",
        "VVXC25JLiT4K"
      ],
      "authorship_tag": "ABX9TyOqK4IbJ6P5TrzF1RIvlHm5",
      "include_colab_link": true
    },
    "kernelspec": {
      "name": "python3",
      "display_name": "Python 3"
    },
    "language_info": {
      "name": "python"
    }
  },
  "cells": [
    {
      "cell_type": "markdown",
      "metadata": {
        "id": "view-in-github",
        "colab_type": "text"
      },
      "source": [
        "<a href=\"https://colab.research.google.com/github/AftabUdaipurwala/MLProjects/blob/main/Mahindra_Manufacturing_Analytics.ipynb\" target=\"_parent\"><img src=\"https://colab.research.google.com/assets/colab-badge.svg\" alt=\"Open In Colab\"/></a>"
      ]
    },
    {
      "cell_type": "markdown",
      "metadata": {
        "id": "1OftOZvF2O1V"
      },
      "source": [
        "# ***Import Python Libraries***"
      ]
    },
    {
      "cell_type": "code",
      "metadata": {
        "id": "z3ouLN1kza-g"
      },
      "source": [
        "import pandas as pd\n",
        "import numpy as np\n",
        "from sklearn import linear_model\n",
        "from google.colab import drive\n",
        "import matplotlib.pyplot as plt\n",
        "%matplotlib inline\n",
        "import matplotlib\n",
        "matplotlib.rcParams['figure.figsize']=(20,10)\n",
        "from scipy import stats\n",
        "import warnings\n",
        "warnings.filterwarnings(\"ignore\")\n",
        "import seaborn as sns\n",
        "\n",
        "from sklearn.svm import SVC\n",
        "from sklearn.linear_model import LogisticRegression\n",
        "from sklearn.ensemble import RandomForestClassifier\n",
        "from sklearn.naive_bayes import MultinomialNB,GaussianNB\n",
        "from sklearn.tree import DecisionTreeClassifier\n",
        "from sklearn.model_selection import cross_val_score\n",
        "from sklearn.model_selection import GridSearchCV\n"
      ],
      "execution_count": 1,
      "outputs": []
    },
    {
      "cell_type": "markdown",
      "metadata": {
        "id": "qwIVvlK014Un"
      },
      "source": [
        "# ***Mount Google Drive to Load Data***\n",
        "\n"
      ]
    },
    {
      "cell_type": "code",
      "metadata": {
        "colab": {
          "base_uri": "https://localhost:8080/"
        },
        "id": "Xp20MtNRzRFs",
        "outputId": "0003734b-7aa8-4740-b163-efabd328d82d"
      },
      "source": [
        "drive.mount('/content/drive')"
      ],
      "execution_count": 2,
      "outputs": [
        {
          "output_type": "stream",
          "name": "stdout",
          "text": [
            "Mounted at /content/drive\n"
          ]
        }
      ]
    },
    {
      "cell_type": "code",
      "metadata": {
        "colab": {
          "base_uri": "https://localhost:8080/"
        },
        "id": "5lGvvxCNzXIm",
        "outputId": "f9d6ff0e-495c-473f-dbc4-0db8d92411cf"
      },
      "source": [
        "!ls '/content/drive/MyDrive/MahindraManufacturingAnalytics' # listing all the contents in the drive"
      ],
      "execution_count": 3,
      "outputs": [
        {
          "output_type": "stream",
          "name": "stdout",
          "text": [
            "ManufacturingAnalytics.csv\n"
          ]
        }
      ]
    },
    {
      "cell_type": "markdown",
      "metadata": {
        "id": "wg7oLA4K2cbT"
      },
      "source": [
        "# ***Load Data***"
      ]
    },
    {
      "cell_type": "code",
      "metadata": {
        "colab": {
          "base_uri": "https://localhost:8080/",
          "height": 203
        },
        "id": "UPG0g_SOzdUS",
        "outputId": "a6b2397d-f65a-4088-a34e-bd549c1fa625"
      },
      "source": [
        "df = pd.read_csv('/content/drive/MyDrive/MahindraManufacturingAnalytics/ManufacturingAnalytics.csv')\n",
        "df.head()"
      ],
      "execution_count": 4,
      "outputs": [
        {
          "output_type": "execute_result",
          "data": {
            "text/html": [
              "<div>\n",
              "<style scoped>\n",
              "    .dataframe tbody tr th:only-of-type {\n",
              "        vertical-align: middle;\n",
              "    }\n",
              "\n",
              "    .dataframe tbody tr th {\n",
              "        vertical-align: top;\n",
              "    }\n",
              "\n",
              "    .dataframe thead th {\n",
              "        text-align: right;\n",
              "    }\n",
              "</style>\n",
              "<table border=\"1\" class=\"dataframe\">\n",
              "  <thead>\n",
              "    <tr style=\"text-align: right;\">\n",
              "      <th></th>\n",
              "      <th>ID</th>\n",
              "      <th>Type</th>\n",
              "      <th>Air temperature [K]</th>\n",
              "      <th>Process temperature [K]</th>\n",
              "      <th>Rotational speed [rpm]</th>\n",
              "      <th>Torque [Nm]</th>\n",
              "      <th>Tool wear [min]</th>\n",
              "      <th>Machine failure</th>\n",
              "      <th>TWF</th>\n",
              "      <th>HDF</th>\n",
              "      <th>PWF</th>\n",
              "      <th>OSF</th>\n",
              "      <th>RNF</th>\n",
              "    </tr>\n",
              "  </thead>\n",
              "  <tbody>\n",
              "    <tr>\n",
              "      <th>0</th>\n",
              "      <td>1</td>\n",
              "      <td>M</td>\n",
              "      <td>298.1</td>\n",
              "      <td>308.6</td>\n",
              "      <td>1551.0</td>\n",
              "      <td>NaN</td>\n",
              "      <td>0.0</td>\n",
              "      <td>0.0</td>\n",
              "      <td>0.0</td>\n",
              "      <td>0.0</td>\n",
              "      <td>0.0</td>\n",
              "      <td>0.0</td>\n",
              "      <td>0.0</td>\n",
              "    </tr>\n",
              "    <tr>\n",
              "      <th>1</th>\n",
              "      <td>2</td>\n",
              "      <td>L</td>\n",
              "      <td>298.2</td>\n",
              "      <td>308.7</td>\n",
              "      <td>1408.0</td>\n",
              "      <td>46.3</td>\n",
              "      <td>3.0</td>\n",
              "      <td>0.0</td>\n",
              "      <td>0.0</td>\n",
              "      <td>0.0</td>\n",
              "      <td>0.0</td>\n",
              "      <td>0.0</td>\n",
              "      <td>0.0</td>\n",
              "    </tr>\n",
              "    <tr>\n",
              "      <th>2</th>\n",
              "      <td>3</td>\n",
              "      <td>L</td>\n",
              "      <td>298.1</td>\n",
              "      <td>308.5</td>\n",
              "      <td>1498.0</td>\n",
              "      <td>49.4</td>\n",
              "      <td>5.0</td>\n",
              "      <td>0.0</td>\n",
              "      <td>0.0</td>\n",
              "      <td>0.0</td>\n",
              "      <td>0.0</td>\n",
              "      <td>0.0</td>\n",
              "      <td>0.0</td>\n",
              "    </tr>\n",
              "    <tr>\n",
              "      <th>3</th>\n",
              "      <td>4</td>\n",
              "      <td>L</td>\n",
              "      <td>298.2</td>\n",
              "      <td>308.6</td>\n",
              "      <td>1433.0</td>\n",
              "      <td>39.5</td>\n",
              "      <td>7.0</td>\n",
              "      <td>0.0</td>\n",
              "      <td>0.0</td>\n",
              "      <td>0.0</td>\n",
              "      <td>0.0</td>\n",
              "      <td>0.0</td>\n",
              "      <td>0.0</td>\n",
              "    </tr>\n",
              "    <tr>\n",
              "      <th>4</th>\n",
              "      <td>5</td>\n",
              "      <td>L</td>\n",
              "      <td>298.2</td>\n",
              "      <td>308.7</td>\n",
              "      <td>1408.0</td>\n",
              "      <td>40.0</td>\n",
              "      <td>9.0</td>\n",
              "      <td>0.0</td>\n",
              "      <td>0.0</td>\n",
              "      <td>0.0</td>\n",
              "      <td>0.0</td>\n",
              "      <td>0.0</td>\n",
              "      <td>0.0</td>\n",
              "    </tr>\n",
              "  </tbody>\n",
              "</table>\n",
              "</div>"
            ],
            "text/plain": [
              "   ID Type  Air temperature [K]  Process temperature [K]  ...  HDF  PWF  OSF  RNF\n",
              "0   1    M                298.1                    308.6  ...  0.0  0.0  0.0  0.0\n",
              "1   2    L                298.2                    308.7  ...  0.0  0.0  0.0  0.0\n",
              "2   3    L                298.1                    308.5  ...  0.0  0.0  0.0  0.0\n",
              "3   4    L                298.2                    308.6  ...  0.0  0.0  0.0  0.0\n",
              "4   5    L                298.2                    308.7  ...  0.0  0.0  0.0  0.0\n",
              "\n",
              "[5 rows x 13 columns]"
            ]
          },
          "metadata": {},
          "execution_count": 4
        }
      ]
    },
    {
      "cell_type": "code",
      "metadata": {
        "colab": {
          "base_uri": "https://localhost:8080/",
          "height": 203
        },
        "id": "YJ39BAGK-7Cx",
        "outputId": "e4181b05-975c-439a-cd7d-01892940bcbe"
      },
      "source": [
        "df= pd.DataFrame(df, index = range(0,9999))\n",
        "df.head()"
      ],
      "execution_count": 5,
      "outputs": [
        {
          "output_type": "execute_result",
          "data": {
            "text/html": [
              "<div>\n",
              "<style scoped>\n",
              "    .dataframe tbody tr th:only-of-type {\n",
              "        vertical-align: middle;\n",
              "    }\n",
              "\n",
              "    .dataframe tbody tr th {\n",
              "        vertical-align: top;\n",
              "    }\n",
              "\n",
              "    .dataframe thead th {\n",
              "        text-align: right;\n",
              "    }\n",
              "</style>\n",
              "<table border=\"1\" class=\"dataframe\">\n",
              "  <thead>\n",
              "    <tr style=\"text-align: right;\">\n",
              "      <th></th>\n",
              "      <th>ID</th>\n",
              "      <th>Type</th>\n",
              "      <th>Air temperature [K]</th>\n",
              "      <th>Process temperature [K]</th>\n",
              "      <th>Rotational speed [rpm]</th>\n",
              "      <th>Torque [Nm]</th>\n",
              "      <th>Tool wear [min]</th>\n",
              "      <th>Machine failure</th>\n",
              "      <th>TWF</th>\n",
              "      <th>HDF</th>\n",
              "      <th>PWF</th>\n",
              "      <th>OSF</th>\n",
              "      <th>RNF</th>\n",
              "    </tr>\n",
              "  </thead>\n",
              "  <tbody>\n",
              "    <tr>\n",
              "      <th>0</th>\n",
              "      <td>1</td>\n",
              "      <td>M</td>\n",
              "      <td>298.1</td>\n",
              "      <td>308.6</td>\n",
              "      <td>1551.0</td>\n",
              "      <td>NaN</td>\n",
              "      <td>0.0</td>\n",
              "      <td>0.0</td>\n",
              "      <td>0.0</td>\n",
              "      <td>0.0</td>\n",
              "      <td>0.0</td>\n",
              "      <td>0.0</td>\n",
              "      <td>0.0</td>\n",
              "    </tr>\n",
              "    <tr>\n",
              "      <th>1</th>\n",
              "      <td>2</td>\n",
              "      <td>L</td>\n",
              "      <td>298.2</td>\n",
              "      <td>308.7</td>\n",
              "      <td>1408.0</td>\n",
              "      <td>46.3</td>\n",
              "      <td>3.0</td>\n",
              "      <td>0.0</td>\n",
              "      <td>0.0</td>\n",
              "      <td>0.0</td>\n",
              "      <td>0.0</td>\n",
              "      <td>0.0</td>\n",
              "      <td>0.0</td>\n",
              "    </tr>\n",
              "    <tr>\n",
              "      <th>2</th>\n",
              "      <td>3</td>\n",
              "      <td>L</td>\n",
              "      <td>298.1</td>\n",
              "      <td>308.5</td>\n",
              "      <td>1498.0</td>\n",
              "      <td>49.4</td>\n",
              "      <td>5.0</td>\n",
              "      <td>0.0</td>\n",
              "      <td>0.0</td>\n",
              "      <td>0.0</td>\n",
              "      <td>0.0</td>\n",
              "      <td>0.0</td>\n",
              "      <td>0.0</td>\n",
              "    </tr>\n",
              "    <tr>\n",
              "      <th>3</th>\n",
              "      <td>4</td>\n",
              "      <td>L</td>\n",
              "      <td>298.2</td>\n",
              "      <td>308.6</td>\n",
              "      <td>1433.0</td>\n",
              "      <td>39.5</td>\n",
              "      <td>7.0</td>\n",
              "      <td>0.0</td>\n",
              "      <td>0.0</td>\n",
              "      <td>0.0</td>\n",
              "      <td>0.0</td>\n",
              "      <td>0.0</td>\n",
              "      <td>0.0</td>\n",
              "    </tr>\n",
              "    <tr>\n",
              "      <th>4</th>\n",
              "      <td>5</td>\n",
              "      <td>L</td>\n",
              "      <td>298.2</td>\n",
              "      <td>308.7</td>\n",
              "      <td>1408.0</td>\n",
              "      <td>40.0</td>\n",
              "      <td>9.0</td>\n",
              "      <td>0.0</td>\n",
              "      <td>0.0</td>\n",
              "      <td>0.0</td>\n",
              "      <td>0.0</td>\n",
              "      <td>0.0</td>\n",
              "      <td>0.0</td>\n",
              "    </tr>\n",
              "  </tbody>\n",
              "</table>\n",
              "</div>"
            ],
            "text/plain": [
              "   ID Type  Air temperature [K]  Process temperature [K]  ...  HDF  PWF  OSF  RNF\n",
              "0   1    M                298.1                    308.6  ...  0.0  0.0  0.0  0.0\n",
              "1   2    L                298.2                    308.7  ...  0.0  0.0  0.0  0.0\n",
              "2   3    L                298.1                    308.5  ...  0.0  0.0  0.0  0.0\n",
              "3   4    L                298.2                    308.6  ...  0.0  0.0  0.0  0.0\n",
              "4   5    L                298.2                    308.7  ...  0.0  0.0  0.0  0.0\n",
              "\n",
              "[5 rows x 13 columns]"
            ]
          },
          "metadata": {},
          "execution_count": 5
        }
      ]
    },
    {
      "cell_type": "markdown",
      "metadata": {
        "id": "VqclPklT2pBa"
      },
      "source": [
        "# ***Exploratory Data Analysis***"
      ]
    },
    {
      "cell_type": "code",
      "metadata": {
        "colab": {
          "base_uri": "https://localhost:8080/"
        },
        "id": "VA8DkfO222Pa",
        "outputId": "725349e4-d249-47c9-9e55-0719bc97e6cd"
      },
      "source": [
        "df.shape # checking shape of the data"
      ],
      "execution_count": 6,
      "outputs": [
        {
          "output_type": "execute_result",
          "data": {
            "text/plain": [
              "(9999, 13)"
            ]
          },
          "metadata": {},
          "execution_count": 6
        }
      ]
    },
    {
      "cell_type": "code",
      "metadata": {
        "colab": {
          "base_uri": "https://localhost:8080/",
          "height": 312
        },
        "id": "wz0qH4J747iI",
        "outputId": "f2121118-3d6c-4629-ca2a-092a77725939"
      },
      "source": [
        "df.describe()\n",
        "#''' Here we can clearly see that there are lot of outliers in each of thte variable,\n",
        "# eg just check process temp, its min is 0, max is 11000 but 25th n 75th percentile is very narrow 308-311'''"
      ],
      "execution_count": 7,
      "outputs": [
        {
          "output_type": "execute_result",
          "data": {
            "text/html": [
              "<div>\n",
              "<style scoped>\n",
              "    .dataframe tbody tr th:only-of-type {\n",
              "        vertical-align: middle;\n",
              "    }\n",
              "\n",
              "    .dataframe tbody tr th {\n",
              "        vertical-align: top;\n",
              "    }\n",
              "\n",
              "    .dataframe thead th {\n",
              "        text-align: right;\n",
              "    }\n",
              "</style>\n",
              "<table border=\"1\" class=\"dataframe\">\n",
              "  <thead>\n",
              "    <tr style=\"text-align: right;\">\n",
              "      <th></th>\n",
              "      <th>ID</th>\n",
              "      <th>Air temperature [K]</th>\n",
              "      <th>Process temperature [K]</th>\n",
              "      <th>Rotational speed [rpm]</th>\n",
              "      <th>Torque [Nm]</th>\n",
              "      <th>Tool wear [min]</th>\n",
              "      <th>Machine failure</th>\n",
              "      <th>TWF</th>\n",
              "      <th>HDF</th>\n",
              "      <th>PWF</th>\n",
              "      <th>OSF</th>\n",
              "      <th>RNF</th>\n",
              "    </tr>\n",
              "  </thead>\n",
              "  <tbody>\n",
              "    <tr>\n",
              "      <th>count</th>\n",
              "      <td>9999.000000</td>\n",
              "      <td>9984.000000</td>\n",
              "      <td>9986.000000</td>\n",
              "      <td>9991.000000</td>\n",
              "      <td>9995.000000</td>\n",
              "      <td>9993.000000</td>\n",
              "      <td>9995.000000</td>\n",
              "      <td>9995.000000</td>\n",
              "      <td>9995.000000</td>\n",
              "      <td>9995.000000</td>\n",
              "      <td>9995.000000</td>\n",
              "      <td>9995.000000</td>\n",
              "    </tr>\n",
              "    <tr>\n",
              "      <th>mean</th>\n",
              "      <td>5000.000000</td>\n",
              "      <td>300.122115</td>\n",
              "      <td>311.046826</td>\n",
              "      <td>1538.054949</td>\n",
              "      <td>41.184282</td>\n",
              "      <td>107.953267</td>\n",
              "      <td>0.033817</td>\n",
              "      <td>0.004602</td>\n",
              "      <td>0.011506</td>\n",
              "      <td>0.009405</td>\n",
              "      <td>0.009805</td>\n",
              "      <td>0.001901</td>\n",
              "    </tr>\n",
              "    <tr>\n",
              "      <th>std</th>\n",
              "      <td>2886.607005</td>\n",
              "      <td>17.599673</td>\n",
              "      <td>107.030405</td>\n",
              "      <td>189.139531</td>\n",
              "      <td>120.044630</td>\n",
              "      <td>63.658541</td>\n",
              "      <td>0.180767</td>\n",
              "      <td>0.067687</td>\n",
              "      <td>0.106651</td>\n",
              "      <td>0.096526</td>\n",
              "      <td>0.098538</td>\n",
              "      <td>0.043561</td>\n",
              "    </tr>\n",
              "    <tr>\n",
              "      <th>min</th>\n",
              "      <td>1.000000</td>\n",
              "      <td>15.000000</td>\n",
              "      <td>0.000000</td>\n",
              "      <td>-4500.000000</td>\n",
              "      <td>3.800000</td>\n",
              "      <td>0.000000</td>\n",
              "      <td>0.000000</td>\n",
              "      <td>0.000000</td>\n",
              "      <td>0.000000</td>\n",
              "      <td>0.000000</td>\n",
              "      <td>0.000000</td>\n",
              "      <td>0.000000</td>\n",
              "    </tr>\n",
              "    <tr>\n",
              "      <th>25%</th>\n",
              "      <td>2500.500000</td>\n",
              "      <td>298.300000</td>\n",
              "      <td>308.800000</td>\n",
              "      <td>1423.000000</td>\n",
              "      <td>33.200000</td>\n",
              "      <td>53.000000</td>\n",
              "      <td>0.000000</td>\n",
              "      <td>0.000000</td>\n",
              "      <td>0.000000</td>\n",
              "      <td>0.000000</td>\n",
              "      <td>0.000000</td>\n",
              "      <td>0.000000</td>\n",
              "    </tr>\n",
              "    <tr>\n",
              "      <th>50%</th>\n",
              "      <td>5000.000000</td>\n",
              "      <td>300.100000</td>\n",
              "      <td>310.100000</td>\n",
              "      <td>1503.000000</td>\n",
              "      <td>40.100000</td>\n",
              "      <td>108.000000</td>\n",
              "      <td>0.000000</td>\n",
              "      <td>0.000000</td>\n",
              "      <td>0.000000</td>\n",
              "      <td>0.000000</td>\n",
              "      <td>0.000000</td>\n",
              "      <td>0.000000</td>\n",
              "    </tr>\n",
              "    <tr>\n",
              "      <th>75%</th>\n",
              "      <td>7499.500000</td>\n",
              "      <td>301.500000</td>\n",
              "      <td>311.100000</td>\n",
              "      <td>1612.000000</td>\n",
              "      <td>46.800000</td>\n",
              "      <td>162.000000</td>\n",
              "      <td>0.000000</td>\n",
              "      <td>0.000000</td>\n",
              "      <td>0.000000</td>\n",
              "      <td>0.000000</td>\n",
              "      <td>0.000000</td>\n",
              "      <td>0.000000</td>\n",
              "    </tr>\n",
              "    <tr>\n",
              "      <th>max</th>\n",
              "      <td>9999.000000</td>\n",
              "      <td>2000.000000</td>\n",
              "      <td>11000.000000</td>\n",
              "      <td>2886.000000</td>\n",
              "      <td>12000.000000</td>\n",
              "      <td>253.000000</td>\n",
              "      <td>1.000000</td>\n",
              "      <td>1.000000</td>\n",
              "      <td>1.000000</td>\n",
              "      <td>1.000000</td>\n",
              "      <td>1.000000</td>\n",
              "      <td>1.000000</td>\n",
              "    </tr>\n",
              "  </tbody>\n",
              "</table>\n",
              "</div>"
            ],
            "text/plain": [
              "                ID  Air temperature [K]  ...          OSF          RNF\n",
              "count  9999.000000          9984.000000  ...  9995.000000  9995.000000\n",
              "mean   5000.000000           300.122115  ...     0.009805     0.001901\n",
              "std    2886.607005            17.599673  ...     0.098538     0.043561\n",
              "min       1.000000            15.000000  ...     0.000000     0.000000\n",
              "25%    2500.500000           298.300000  ...     0.000000     0.000000\n",
              "50%    5000.000000           300.100000  ...     0.000000     0.000000\n",
              "75%    7499.500000           301.500000  ...     0.000000     0.000000\n",
              "max    9999.000000          2000.000000  ...     1.000000     1.000000\n",
              "\n",
              "[8 rows x 12 columns]"
            ]
          },
          "metadata": {},
          "execution_count": 7
        }
      ]
    },
    {
      "cell_type": "code",
      "metadata": {
        "colab": {
          "base_uri": "https://localhost:8080/"
        },
        "id": "95_nQw3J82GA",
        "outputId": "f7123c7f-3a49-429c-b2e8-db90a2b89217"
      },
      "source": [
        "df.isnull().sum(axis = 0) ## Checking which all columns have null values. Here Couple of points to be noted are 1. the failure type missing values are 4 all togather"
      ],
      "execution_count": 8,
      "outputs": [
        {
          "output_type": "execute_result",
          "data": {
            "text/plain": [
              "ID                          0\n",
              "Type                        6\n",
              "Air temperature [K]        15\n",
              "Process temperature [K]    13\n",
              "Rotational speed [rpm]      8\n",
              "Torque [Nm]                 4\n",
              "Tool wear [min]             6\n",
              "Machine failure             4\n",
              "TWF                         4\n",
              "HDF                         4\n",
              "PWF                         4\n",
              "OSF                         4\n",
              "RNF                         4\n",
              "dtype: int64"
            ]
          },
          "metadata": {},
          "execution_count": 8
        }
      ]
    },
    {
      "cell_type": "code",
      "metadata": {
        "colab": {
          "base_uri": "https://localhost:8080/"
        },
        "id": "yTNE0sqN9fve",
        "outputId": "a0655e60-1bb7-44ab-fbb6-1c868727d28e"
      },
      "source": [
        "df1=df[df.isnull().any(axis='columns')] # If we take subset of only missing values rows and then investigate\n",
        "df1.shape"
      ],
      "execution_count": 9,
      "outputs": [
        {
          "output_type": "execute_result",
          "data": {
            "text/plain": [
              "(54, 13)"
            ]
          },
          "metadata": {},
          "execution_count": 9
        }
      ]
    },
    {
      "cell_type": "code",
      "metadata": {
        "colab": {
          "base_uri": "https://localhost:8080/",
          "height": 110
        },
        "id": "bJeNPSb9-GK4",
        "outputId": "1308cb9c-c220-4d84-a922-8016804b8cab"
      },
      "source": [
        "df1.head(2)"
      ],
      "execution_count": 10,
      "outputs": [
        {
          "output_type": "execute_result",
          "data": {
            "text/html": [
              "<div>\n",
              "<style scoped>\n",
              "    .dataframe tbody tr th:only-of-type {\n",
              "        vertical-align: middle;\n",
              "    }\n",
              "\n",
              "    .dataframe tbody tr th {\n",
              "        vertical-align: top;\n",
              "    }\n",
              "\n",
              "    .dataframe thead th {\n",
              "        text-align: right;\n",
              "    }\n",
              "</style>\n",
              "<table border=\"1\" class=\"dataframe\">\n",
              "  <thead>\n",
              "    <tr style=\"text-align: right;\">\n",
              "      <th></th>\n",
              "      <th>ID</th>\n",
              "      <th>Type</th>\n",
              "      <th>Air temperature [K]</th>\n",
              "      <th>Process temperature [K]</th>\n",
              "      <th>Rotational speed [rpm]</th>\n",
              "      <th>Torque [Nm]</th>\n",
              "      <th>Tool wear [min]</th>\n",
              "      <th>Machine failure</th>\n",
              "      <th>TWF</th>\n",
              "      <th>HDF</th>\n",
              "      <th>PWF</th>\n",
              "      <th>OSF</th>\n",
              "      <th>RNF</th>\n",
              "    </tr>\n",
              "  </thead>\n",
              "  <tbody>\n",
              "    <tr>\n",
              "      <th>0</th>\n",
              "      <td>1</td>\n",
              "      <td>M</td>\n",
              "      <td>298.1</td>\n",
              "      <td>308.6</td>\n",
              "      <td>1551.0</td>\n",
              "      <td>NaN</td>\n",
              "      <td>0.0</td>\n",
              "      <td>0.0</td>\n",
              "      <td>0.0</td>\n",
              "      <td>0.0</td>\n",
              "      <td>0.0</td>\n",
              "      <td>0.0</td>\n",
              "      <td>0.0</td>\n",
              "    </tr>\n",
              "    <tr>\n",
              "      <th>9</th>\n",
              "      <td>10</td>\n",
              "      <td>M</td>\n",
              "      <td>NaN</td>\n",
              "      <td>309.0</td>\n",
              "      <td>1741.0</td>\n",
              "      <td>28.0</td>\n",
              "      <td>21.0</td>\n",
              "      <td>0.0</td>\n",
              "      <td>0.0</td>\n",
              "      <td>0.0</td>\n",
              "      <td>0.0</td>\n",
              "      <td>0.0</td>\n",
              "      <td>0.0</td>\n",
              "    </tr>\n",
              "  </tbody>\n",
              "</table>\n",
              "</div>"
            ],
            "text/plain": [
              "   ID Type  Air temperature [K]  Process temperature [K]  ...  HDF  PWF  OSF  RNF\n",
              "0   1    M                298.1                    308.6  ...  0.0  0.0  0.0  0.0\n",
              "9  10    M                  NaN                    309.0  ...  0.0  0.0  0.0  0.0\n",
              "\n",
              "[2 rows x 13 columns]"
            ]
          },
          "metadata": {},
          "execution_count": 10
        }
      ]
    },
    {
      "cell_type": "code",
      "metadata": {
        "colab": {
          "base_uri": "https://localhost:8080/",
          "height": 142
        },
        "id": "pXQheBDg3_ph",
        "outputId": "8bcf72ca-7024-4fef-ff06-3539b71f2455"
      },
      "source": [
        "pd.crosstab(df1['Machine failure'],df1['RNF']) \n",
        "# So here we can safely say if we remove all these missing values it wont have any big impact on the y variable as only 1 of 50 values is a downtime record. "
      ],
      "execution_count": 11,
      "outputs": [
        {
          "output_type": "execute_result",
          "data": {
            "text/html": [
              "<div>\n",
              "<style scoped>\n",
              "    .dataframe tbody tr th:only-of-type {\n",
              "        vertical-align: middle;\n",
              "    }\n",
              "\n",
              "    .dataframe tbody tr th {\n",
              "        vertical-align: top;\n",
              "    }\n",
              "\n",
              "    .dataframe thead th {\n",
              "        text-align: right;\n",
              "    }\n",
              "</style>\n",
              "<table border=\"1\" class=\"dataframe\">\n",
              "  <thead>\n",
              "    <tr style=\"text-align: right;\">\n",
              "      <th>RNF</th>\n",
              "      <th>0.0</th>\n",
              "    </tr>\n",
              "    <tr>\n",
              "      <th>Machine failure</th>\n",
              "      <th></th>\n",
              "    </tr>\n",
              "  </thead>\n",
              "  <tbody>\n",
              "    <tr>\n",
              "      <th>0.0</th>\n",
              "      <td>49</td>\n",
              "    </tr>\n",
              "    <tr>\n",
              "      <th>1.0</th>\n",
              "      <td>1</td>\n",
              "    </tr>\n",
              "  </tbody>\n",
              "</table>\n",
              "</div>"
            ],
            "text/plain": [
              "RNF              0.0\n",
              "Machine failure     \n",
              "0.0               49\n",
              "1.0                1"
            ]
          },
          "metadata": {},
          "execution_count": 11
        }
      ]
    },
    {
      "cell_type": "code",
      "metadata": {
        "colab": {
          "base_uri": "https://localhost:8080/",
          "height": 142
        },
        "id": "kR-sQD4d0rcJ",
        "outputId": "c0850914-ce2d-4191-e4c3-a314ed77b4d6"
      },
      "source": [
        "pd.crosstab(df['Machine failure'],df['RNF']) # there are 338 incidencies of downtime"
      ],
      "execution_count": 12,
      "outputs": [
        {
          "output_type": "execute_result",
          "data": {
            "text/html": [
              "<div>\n",
              "<style scoped>\n",
              "    .dataframe tbody tr th:only-of-type {\n",
              "        vertical-align: middle;\n",
              "    }\n",
              "\n",
              "    .dataframe tbody tr th {\n",
              "        vertical-align: top;\n",
              "    }\n",
              "\n",
              "    .dataframe thead th {\n",
              "        text-align: right;\n",
              "    }\n",
              "</style>\n",
              "<table border=\"1\" class=\"dataframe\">\n",
              "  <thead>\n",
              "    <tr style=\"text-align: right;\">\n",
              "      <th>RNF</th>\n",
              "      <th>0.0</th>\n",
              "      <th>1.0</th>\n",
              "    </tr>\n",
              "    <tr>\n",
              "      <th>Machine failure</th>\n",
              "      <th></th>\n",
              "      <th></th>\n",
              "    </tr>\n",
              "  </thead>\n",
              "  <tbody>\n",
              "    <tr>\n",
              "      <th>0.0</th>\n",
              "      <td>9639</td>\n",
              "      <td>18</td>\n",
              "    </tr>\n",
              "    <tr>\n",
              "      <th>1.0</th>\n",
              "      <td>337</td>\n",
              "      <td>1</td>\n",
              "    </tr>\n",
              "  </tbody>\n",
              "</table>\n",
              "</div>"
            ],
            "text/plain": [
              "RNF               0.0  1.0\n",
              "Machine failure           \n",
              "0.0              9639   18\n",
              "1.0               337    1"
            ]
          },
          "metadata": {},
          "execution_count": 12
        }
      ]
    },
    {
      "cell_type": "code",
      "metadata": {
        "id": "kbpIGO614AQb"
      },
      "source": [
        "plt.subplots(figsize=(7,6), dpi=100)\n",
        "df.hist()"
      ],
      "execution_count": null,
      "outputs": []
    },
    {
      "cell_type": "code",
      "metadata": {
        "colab": {
          "base_uri": "https://localhost:8080/"
        },
        "id": "PG06ezBd6Qp0",
        "outputId": "ebde8ebb-64d5-4105-c6d0-140305908d4f"
      },
      "source": [
        "# checking if we have any unique values in each variable or is everything only a single point data?\n",
        "df2 = df.dropna(axis=0)\n",
        "df2= df2.drop(['ID'],axis=1)\n",
        "col_names = df2.columns\n",
        "\n",
        "for i in col_names:\n",
        "  x = len(df2[i].unique())\n",
        "  print('Column Name is',i,'& Count of Unique values is ',x)"
      ],
      "execution_count": 14,
      "outputs": [
        {
          "output_type": "stream",
          "name": "stdout",
          "text": [
            "Column Name is Type & Count of Unique values is  3\n",
            "Column Name is Air temperature [K] & Count of Unique values is  95\n",
            "Column Name is Process temperature [K] & Count of Unique values is  84\n",
            "Column Name is Rotational speed [rpm] & Count of Unique values is  940\n",
            "Column Name is Torque [Nm] & Count of Unique values is  577\n",
            "Column Name is Tool wear [min] & Count of Unique values is  246\n",
            "Column Name is Machine failure & Count of Unique values is  2\n",
            "Column Name is TWF & Count of Unique values is  2\n",
            "Column Name is HDF & Count of Unique values is  2\n",
            "Column Name is PWF & Count of Unique values is  2\n",
            "Column Name is OSF & Count of Unique values is  2\n",
            "Column Name is RNF & Count of Unique values is  2\n"
          ]
        }
      ]
    },
    {
      "cell_type": "code",
      "metadata": {
        "colab": {
          "base_uri": "https://localhost:8080/"
        },
        "id": "0Kmatdo_KHD8",
        "outputId": "fdbd3a62-c2da-48da-abed-560434f2d6e2"
      },
      "source": [
        "df2.shape"
      ],
      "execution_count": 15,
      "outputs": [
        {
          "output_type": "execute_result",
          "data": {
            "text/plain": [
              "(9945, 12)"
            ]
          },
          "metadata": {},
          "execution_count": 15
        }
      ]
    },
    {
      "cell_type": "code",
      "metadata": {
        "id": "j0E-2t878dVM"
      },
      "source": [
        "# creating a function to check values between 2 quantiles\n",
        "\n",
        "def check_range(df, col):\n",
        "  q_low = df[col].quantile(0.25)\n",
        "  q_hi  = df[col].quantile(0.75)    \n",
        "  print(col,\"qhi\",q_hi,'qlow',q_low)\n"
      ],
      "execution_count": 16,
      "outputs": []
    },
    {
      "cell_type": "code",
      "metadata": {
        "colab": {
          "base_uri": "https://localhost:8080/"
        },
        "id": "W1n6dkU39K78",
        "outputId": "c6b02c88-13b6-4568-90fb-b011b31af3fa"
      },
      "source": [
        "df3 = df2.drop(['Type','Machine failure', 'TWF', 'HDF', 'PWF', 'OSF', 'RNF'], axis=1)\n",
        "col_names=df3.columns\n",
        "col_names\n",
        "\n",
        "for i in col_names:\n",
        "  check_range(df3,i)"
      ],
      "execution_count": 17,
      "outputs": [
        {
          "output_type": "stream",
          "name": "stdout",
          "text": [
            "Air temperature [K] qhi 301.5 qlow 298.4\n",
            "Process temperature [K] qhi 311.1 qlow 308.8\n",
            "Rotational speed [rpm] qhi 1612.0 qlow 1423.0\n",
            "Torque [Nm] qhi 46.8 qlow 33.2\n",
            "Tool wear [min] qhi 162.0 qlow 53.0\n"
          ]
        }
      ]
    },
    {
      "cell_type": "code",
      "metadata": {
        "id": "8-MBpKP3Gtv6"
      },
      "source": [
        "# creating a function to check values between 2 quantiles\n",
        "\n",
        "def drop_numerical_outliers(df, col):\n",
        "  q_low = df[col].quantile(0.01)\n",
        "  q_hi  = df[col].quantile(0.99)    \n",
        "  df= df[(df[col] < q_hi) & (df[col] > q_low)]\n",
        "  return df\n"
      ],
      "execution_count": 18,
      "outputs": []
    },
    {
      "cell_type": "code",
      "metadata": {
        "id": "2mYaMPLbICdg"
      },
      "source": [
        "df4= df2.copy()\n",
        "df4 = drop_numerical_outliers(df4,'Air temperature [K]')\n",
        "df4 = drop_numerical_outliers(df4,'Process temperature [K]')\n",
        "df4 = drop_numerical_outliers(df4,'Rotational speed [rpm]')\n",
        "df4 = drop_numerical_outliers(df4,'Torque [Nm]')\n",
        "df4 = drop_numerical_outliers(df4,'Tool wear [min]')"
      ],
      "execution_count": 19,
      "outputs": []
    },
    {
      "cell_type": "code",
      "metadata": {
        "colab": {
          "base_uri": "https://localhost:8080/"
        },
        "id": "kL63mn4UCBqA",
        "outputId": "08f06d10-9c92-448c-bc7b-2a9e7da57706"
      },
      "source": [
        "df4.shape"
      ],
      "execution_count": 20,
      "outputs": [
        {
          "output_type": "execute_result",
          "data": {
            "text/plain": [
              "(8891, 12)"
            ]
          },
          "metadata": {},
          "execution_count": 20
        }
      ]
    },
    {
      "cell_type": "code",
      "metadata": {
        "colab": {
          "base_uri": "https://localhost:8080/",
          "height": 203
        },
        "id": "zgaKe9rxIb1w",
        "outputId": "6feeb206-60ae-463a-bbea-99413b59692f"
      },
      "source": [
        "df4.head()"
      ],
      "execution_count": 21,
      "outputs": [
        {
          "output_type": "execute_result",
          "data": {
            "text/html": [
              "<div>\n",
              "<style scoped>\n",
              "    .dataframe tbody tr th:only-of-type {\n",
              "        vertical-align: middle;\n",
              "    }\n",
              "\n",
              "    .dataframe tbody tr th {\n",
              "        vertical-align: top;\n",
              "    }\n",
              "\n",
              "    .dataframe thead th {\n",
              "        text-align: right;\n",
              "    }\n",
              "</style>\n",
              "<table border=\"1\" class=\"dataframe\">\n",
              "  <thead>\n",
              "    <tr style=\"text-align: right;\">\n",
              "      <th></th>\n",
              "      <th>Type</th>\n",
              "      <th>Air temperature [K]</th>\n",
              "      <th>Process temperature [K]</th>\n",
              "      <th>Rotational speed [rpm]</th>\n",
              "      <th>Torque [Nm]</th>\n",
              "      <th>Tool wear [min]</th>\n",
              "      <th>Machine failure</th>\n",
              "      <th>TWF</th>\n",
              "      <th>HDF</th>\n",
              "      <th>PWF</th>\n",
              "      <th>OSF</th>\n",
              "      <th>RNF</th>\n",
              "    </tr>\n",
              "  </thead>\n",
              "  <tbody>\n",
              "    <tr>\n",
              "      <th>1</th>\n",
              "      <td>L</td>\n",
              "      <td>298.2</td>\n",
              "      <td>308.7</td>\n",
              "      <td>1408.0</td>\n",
              "      <td>46.3</td>\n",
              "      <td>3.0</td>\n",
              "      <td>0.0</td>\n",
              "      <td>0.0</td>\n",
              "      <td>0.0</td>\n",
              "      <td>0.0</td>\n",
              "      <td>0.0</td>\n",
              "      <td>0.0</td>\n",
              "    </tr>\n",
              "    <tr>\n",
              "      <th>2</th>\n",
              "      <td>L</td>\n",
              "      <td>298.1</td>\n",
              "      <td>308.5</td>\n",
              "      <td>1498.0</td>\n",
              "      <td>49.4</td>\n",
              "      <td>5.0</td>\n",
              "      <td>0.0</td>\n",
              "      <td>0.0</td>\n",
              "      <td>0.0</td>\n",
              "      <td>0.0</td>\n",
              "      <td>0.0</td>\n",
              "      <td>0.0</td>\n",
              "    </tr>\n",
              "    <tr>\n",
              "      <th>3</th>\n",
              "      <td>L</td>\n",
              "      <td>298.2</td>\n",
              "      <td>308.6</td>\n",
              "      <td>1433.0</td>\n",
              "      <td>39.5</td>\n",
              "      <td>7.0</td>\n",
              "      <td>0.0</td>\n",
              "      <td>0.0</td>\n",
              "      <td>0.0</td>\n",
              "      <td>0.0</td>\n",
              "      <td>0.0</td>\n",
              "      <td>0.0</td>\n",
              "    </tr>\n",
              "    <tr>\n",
              "      <th>4</th>\n",
              "      <td>L</td>\n",
              "      <td>298.2</td>\n",
              "      <td>308.7</td>\n",
              "      <td>1408.0</td>\n",
              "      <td>40.0</td>\n",
              "      <td>9.0</td>\n",
              "      <td>0.0</td>\n",
              "      <td>0.0</td>\n",
              "      <td>0.0</td>\n",
              "      <td>0.0</td>\n",
              "      <td>0.0</td>\n",
              "      <td>0.0</td>\n",
              "    </tr>\n",
              "    <tr>\n",
              "      <th>5</th>\n",
              "      <td>M</td>\n",
              "      <td>298.1</td>\n",
              "      <td>308.6</td>\n",
              "      <td>1425.0</td>\n",
              "      <td>41.9</td>\n",
              "      <td>11.0</td>\n",
              "      <td>0.0</td>\n",
              "      <td>0.0</td>\n",
              "      <td>0.0</td>\n",
              "      <td>0.0</td>\n",
              "      <td>0.0</td>\n",
              "      <td>0.0</td>\n",
              "    </tr>\n",
              "  </tbody>\n",
              "</table>\n",
              "</div>"
            ],
            "text/plain": [
              "  Type  Air temperature [K]  Process temperature [K]  ...  PWF  OSF  RNF\n",
              "1    L                298.2                    308.7  ...  0.0  0.0  0.0\n",
              "2    L                298.1                    308.5  ...  0.0  0.0  0.0\n",
              "3    L                298.2                    308.6  ...  0.0  0.0  0.0\n",
              "4    L                298.2                    308.7  ...  0.0  0.0  0.0\n",
              "5    M                298.1                    308.6  ...  0.0  0.0  0.0\n",
              "\n",
              "[5 rows x 12 columns]"
            ]
          },
          "metadata": {},
          "execution_count": 21
        }
      ]
    },
    {
      "cell_type": "code",
      "metadata": {
        "colab": {
          "base_uri": "https://localhost:8080/",
          "height": 312
        },
        "id": "pfDQf1SpIjxg",
        "outputId": "d905f0b8-b388-474a-f167-696028d4bbe0"
      },
      "source": [
        "df4.describe()"
      ],
      "execution_count": 22,
      "outputs": [
        {
          "output_type": "execute_result",
          "data": {
            "text/html": [
              "<div>\n",
              "<style scoped>\n",
              "    .dataframe tbody tr th:only-of-type {\n",
              "        vertical-align: middle;\n",
              "    }\n",
              "\n",
              "    .dataframe tbody tr th {\n",
              "        vertical-align: top;\n",
              "    }\n",
              "\n",
              "    .dataframe thead th {\n",
              "        text-align: right;\n",
              "    }\n",
              "</style>\n",
              "<table border=\"1\" class=\"dataframe\">\n",
              "  <thead>\n",
              "    <tr style=\"text-align: right;\">\n",
              "      <th></th>\n",
              "      <th>Air temperature [K]</th>\n",
              "      <th>Process temperature [K]</th>\n",
              "      <th>Rotational speed [rpm]</th>\n",
              "      <th>Torque [Nm]</th>\n",
              "      <th>Tool wear [min]</th>\n",
              "      <th>Machine failure</th>\n",
              "      <th>TWF</th>\n",
              "      <th>HDF</th>\n",
              "      <th>PWF</th>\n",
              "      <th>OSF</th>\n",
              "      <th>RNF</th>\n",
              "    </tr>\n",
              "  </thead>\n",
              "  <tbody>\n",
              "    <tr>\n",
              "      <th>count</th>\n",
              "      <td>8891.000000</td>\n",
              "      <td>8891.000000</td>\n",
              "      <td>8891.000000</td>\n",
              "      <td>8891.000000</td>\n",
              "      <td>8891.000000</td>\n",
              "      <td>8891.000000</td>\n",
              "      <td>8891.000000</td>\n",
              "      <td>8891.000000</td>\n",
              "      <td>8891.000000</td>\n",
              "      <td>8891.000000</td>\n",
              "      <td>8891.000000</td>\n",
              "    </tr>\n",
              "    <tr>\n",
              "      <th>mean</th>\n",
              "      <td>299.989248</td>\n",
              "      <td>309.998763</td>\n",
              "      <td>1528.674840</td>\n",
              "      <td>40.029277</td>\n",
              "      <td>108.422225</td>\n",
              "      <td>0.021820</td>\n",
              "      <td>0.003262</td>\n",
              "      <td>0.010797</td>\n",
              "      <td>0.001012</td>\n",
              "      <td>0.006299</td>\n",
              "      <td>0.002137</td>\n",
              "    </tr>\n",
              "    <tr>\n",
              "      <th>std</th>\n",
              "      <td>1.847364</td>\n",
              "      <td>1.332128</td>\n",
              "      <td>141.770453</td>\n",
              "      <td>8.948229</td>\n",
              "      <td>61.988080</td>\n",
              "      <td>0.146103</td>\n",
              "      <td>0.057022</td>\n",
              "      <td>0.103354</td>\n",
              "      <td>0.031802</td>\n",
              "      <td>0.079117</td>\n",
              "      <td>0.046181</td>\n",
              "    </tr>\n",
              "    <tr>\n",
              "      <th>min</th>\n",
              "      <td>296.300000</td>\n",
              "      <td>307.400000</td>\n",
              "      <td>1276.000000</td>\n",
              "      <td>19.700000</td>\n",
              "      <td>2.000000</td>\n",
              "      <td>0.000000</td>\n",
              "      <td>0.000000</td>\n",
              "      <td>0.000000</td>\n",
              "      <td>0.000000</td>\n",
              "      <td>0.000000</td>\n",
              "      <td>0.000000</td>\n",
              "    </tr>\n",
              "    <tr>\n",
              "      <th>25%</th>\n",
              "      <td>298.400000</td>\n",
              "      <td>308.900000</td>\n",
              "      <td>1426.000000</td>\n",
              "      <td>33.500000</td>\n",
              "      <td>55.000000</td>\n",
              "      <td>0.000000</td>\n",
              "      <td>0.000000</td>\n",
              "      <td>0.000000</td>\n",
              "      <td>0.000000</td>\n",
              "      <td>0.000000</td>\n",
              "      <td>0.000000</td>\n",
              "    </tr>\n",
              "    <tr>\n",
              "      <th>50%</th>\n",
              "      <td>300.100000</td>\n",
              "      <td>310.100000</td>\n",
              "      <td>1503.000000</td>\n",
              "      <td>40.100000</td>\n",
              "      <td>108.000000</td>\n",
              "      <td>0.000000</td>\n",
              "      <td>0.000000</td>\n",
              "      <td>0.000000</td>\n",
              "      <td>0.000000</td>\n",
              "      <td>0.000000</td>\n",
              "      <td>0.000000</td>\n",
              "    </tr>\n",
              "    <tr>\n",
              "      <th>75%</th>\n",
              "      <td>301.400000</td>\n",
              "      <td>311.000000</td>\n",
              "      <td>1606.000000</td>\n",
              "      <td>46.500000</td>\n",
              "      <td>162.000000</td>\n",
              "      <td>0.000000</td>\n",
              "      <td>0.000000</td>\n",
              "      <td>0.000000</td>\n",
              "      <td>0.000000</td>\n",
              "      <td>0.000000</td>\n",
              "      <td>0.000000</td>\n",
              "    </tr>\n",
              "    <tr>\n",
              "      <th>max</th>\n",
              "      <td>304.000000</td>\n",
              "      <td>312.900000</td>\n",
              "      <td>2103.000000</td>\n",
              "      <td>61.900000</td>\n",
              "      <td>222.000000</td>\n",
              "      <td>1.000000</td>\n",
              "      <td>1.000000</td>\n",
              "      <td>1.000000</td>\n",
              "      <td>1.000000</td>\n",
              "      <td>1.000000</td>\n",
              "      <td>1.000000</td>\n",
              "    </tr>\n",
              "  </tbody>\n",
              "</table>\n",
              "</div>"
            ],
            "text/plain": [
              "       Air temperature [K]  Process temperature [K]  ...          OSF          RNF\n",
              "count          8891.000000              8891.000000  ...  8891.000000  8891.000000\n",
              "mean            299.989248               309.998763  ...     0.006299     0.002137\n",
              "std               1.847364                 1.332128  ...     0.079117     0.046181\n",
              "min             296.300000               307.400000  ...     0.000000     0.000000\n",
              "25%             298.400000               308.900000  ...     0.000000     0.000000\n",
              "50%             300.100000               310.100000  ...     0.000000     0.000000\n",
              "75%             301.400000               311.000000  ...     0.000000     0.000000\n",
              "max             304.000000               312.900000  ...     1.000000     1.000000\n",
              "\n",
              "[8 rows x 11 columns]"
            ]
          },
          "metadata": {},
          "execution_count": 22
        }
      ]
    },
    {
      "cell_type": "code",
      "metadata": {
        "colab": {
          "base_uri": "https://localhost:8080/"
        },
        "id": "a2Cq2Et3MkzD",
        "outputId": "78528aa7-eea2-4487-d514-71c4374199e8"
      },
      "source": [
        "df5=df4[df4.isnull().any(axis='columns')] # If we take subset of only missing values rows and then investigate\n",
        "df5.shape"
      ],
      "execution_count": 23,
      "outputs": [
        {
          "output_type": "execute_result",
          "data": {
            "text/plain": [
              "(0, 12)"
            ]
          },
          "metadata": {},
          "execution_count": 23
        }
      ]
    },
    {
      "cell_type": "code",
      "metadata": {
        "colab": {
          "base_uri": "https://localhost:8080/",
          "height": 142
        },
        "id": "w-tufq5oM3R1",
        "outputId": "2452e47b-9136-4fa9-bfa9-28977896ecd5"
      },
      "source": [
        "pd.crosstab(df2['Machine failure'],df2['RNF'])   # Here we can see that if we try to remove outliers a lot of downtime data is lost"
      ],
      "execution_count": 24,
      "outputs": [
        {
          "output_type": "execute_result",
          "data": {
            "text/html": [
              "<div>\n",
              "<style scoped>\n",
              "    .dataframe tbody tr th:only-of-type {\n",
              "        vertical-align: middle;\n",
              "    }\n",
              "\n",
              "    .dataframe tbody tr th {\n",
              "        vertical-align: top;\n",
              "    }\n",
              "\n",
              "    .dataframe thead th {\n",
              "        text-align: right;\n",
              "    }\n",
              "</style>\n",
              "<table border=\"1\" class=\"dataframe\">\n",
              "  <thead>\n",
              "    <tr style=\"text-align: right;\">\n",
              "      <th>RNF</th>\n",
              "      <th>0.0</th>\n",
              "      <th>1.0</th>\n",
              "    </tr>\n",
              "    <tr>\n",
              "      <th>Machine failure</th>\n",
              "      <th></th>\n",
              "      <th></th>\n",
              "    </tr>\n",
              "  </thead>\n",
              "  <tbody>\n",
              "    <tr>\n",
              "      <th>0.0</th>\n",
              "      <td>9590</td>\n",
              "      <td>18</td>\n",
              "    </tr>\n",
              "    <tr>\n",
              "      <th>1.0</th>\n",
              "      <td>336</td>\n",
              "      <td>1</td>\n",
              "    </tr>\n",
              "  </tbody>\n",
              "</table>\n",
              "</div>"
            ],
            "text/plain": [
              "RNF               0.0  1.0\n",
              "Machine failure           \n",
              "0.0              9590   18\n",
              "1.0               336    1"
            ]
          },
          "metadata": {},
          "execution_count": 24
        }
      ]
    },
    {
      "cell_type": "code",
      "metadata": {
        "colab": {
          "base_uri": "https://localhost:8080/",
          "height": 1000
        },
        "id": "w3Nm28z5x3mC",
        "outputId": "6a13b6ba-c07a-4abf-905a-adf59f1697e8"
      },
      "source": [
        "plt.subplots(figsize=(7,6), dpi=100)\n",
        "df4.hist()"
      ],
      "execution_count": 25,
      "outputs": [
        {
          "output_type": "execute_result",
          "data": {
            "text/plain": [
              "array([[<matplotlib.axes._subplots.AxesSubplot object at 0x7f5b9e3d7650>,\n",
              "        <matplotlib.axes._subplots.AxesSubplot object at 0x7f5b9e37fd10>,\n",
              "        <matplotlib.axes._subplots.AxesSubplot object at 0x7f5b9e3423d0>],\n",
              "       [<matplotlib.axes._subplots.AxesSubplot object at 0x7f5b9e2f6a50>,\n",
              "        <matplotlib.axes._subplots.AxesSubplot object at 0x7f5b9e2b80d0>,\n",
              "        <matplotlib.axes._subplots.AxesSubplot object at 0x7f5b9e2f1290>],\n",
              "       [<matplotlib.axes._subplots.AxesSubplot object at 0x7f5b9e2a6890>,\n",
              "        <matplotlib.axes._subplots.AxesSubplot object at 0x7f5b9e25cd50>,\n",
              "        <matplotlib.axes._subplots.AxesSubplot object at 0x7f5b9e25cd90>],\n",
              "       [<matplotlib.axes._subplots.AxesSubplot object at 0x7f5b9e21e450>,\n",
              "        <matplotlib.axes._subplots.AxesSubplot object at 0x7f5b9e189e50>,\n",
              "        <matplotlib.axes._subplots.AxesSubplot object at 0x7f5b9e14c3d0>]],\n",
              "      dtype=object)"
            ]
          },
          "metadata": {},
          "execution_count": 25
        },
        {
          "output_type": "display_data",
          "data": {
            "image/png": "[encoded data removed]",
            "text/plain": [
              "<Figure size 700x600 with 1 Axes>"
            ]
          },
          "metadata": {
            "needs_background": "light"
          }
        },
        {
          "output_type": "display_data",
          "data": {
            "image/png": "[encoded data removed]",
            "text/plain": [
              "<Figure size 432x288 with 12 Axes>"
            ]
          },
          "metadata": {
            "needs_background": "light"
          }
        }
      ]
    },
    {
      "cell_type": "code",
      "metadata": {
        "colab": {
          "base_uri": "https://localhost:8080/",
          "height": 673
        },
        "id": "JPPeTlpiyd4S",
        "outputId": "48354665-9fde-4dbf-ee26-b2a68ac32978"
      },
      "source": [
        "import seaborn as sns\n",
        "plt.subplots(figsize=(7,6), dpi=100)\n",
        "dataplot = sns.heatmap(round(df4.corr(method ='pearson'),2), cmap=\"YlGnBu\", annot=True) # Also we can clearly say RPM & Torque as we know by Engg has high correlation , also same with air temp & prcess temp\n",
        "# Can we use Air Temp & Process temp difference"
      ],
      "execution_count": 26,
      "outputs": [
        {
          "output_type": "display_data",
          "data": {
            "image/png": "[encoded data removed]",
            "text/plain": [
              "<Figure size 700x600 with 2 Axes>"
            ]
          },
          "metadata": {
            "needs_background": "light"
          }
        }
      ]
    },
    {
      "cell_type": "code",
      "metadata": {
        "id": "gE7oIrdF26bj",
        "colab": {
          "base_uri": "https://localhost:8080/",
          "height": 673
        },
        "outputId": "748fb686-4da6-4295-9630-66ff14a3d53e"
      },
      "source": [
        "df4['Temp Diff'] = (abs(df4['Air temperature [K]']-df4['Process temperature [K]']))\n",
        "df4['Power'] = df4['Torque [Nm]']*df4['Rotational speed [rpm]']/9.548/1000\n",
        "plt.subplots(figsize=(7,6), dpi=100)\n",
        "dataplot = sns.heatmap(round(df4.corr(method ='pearson'),2), cmap=\"YlGnBu\", annot=True) # Also we can clearly say RPM & Torque as we know by Engg has high correlation , also same with air temp & prcess temp\n",
        "# Can we use Air Temp & Process temp difference"
      ],
      "execution_count": 27,
      "outputs": [
        {
          "output_type": "display_data",
          "data": {
            "image/png": "[encoded data removed]",
            "text/plain": [
              "<Figure size 700x600 with 2 Axes>"
            ]
          },
          "metadata": {
            "needs_background": "light"
          }
        }
      ]
    },
    {
      "cell_type": "code",
      "metadata": {
        "colab": {
          "base_uri": "https://localhost:8080/"
        },
        "id": "T081Gc0bpIWv",
        "outputId": "01d8ad6c-5b35-4d87-e9bd-8bda836e2627"
      },
      "source": [
        "col_names= list(df4.columns)\n",
        "col_names.remove('Type')\n",
        "col_names.remove('Air temperature [K]')\n",
        "col_names.remove('Process temperature [K]')\n",
        "col_names.remove('Rotational speed [rpm]')\n",
        "col_names.remove('Torque [Nm]')\n",
        "col_names.remove('TWF')\n",
        "col_names.remove('HDF')\n",
        "col_names.remove('PWF')\n",
        "col_names.remove('OSF')\n",
        "col_names.remove('RNF')\n",
        "col_names.remove('Machine failure')\n",
        "\n",
        "\n",
        "\n",
        "col_names"
      ],
      "execution_count": 28,
      "outputs": [
        {
          "output_type": "execute_result",
          "data": {
            "text/plain": [
              "['Tool wear [min]', 'Temp Diff', 'Power']"
            ]
          },
          "metadata": {},
          "execution_count": 28
        }
      ]
    },
    {
      "cell_type": "code",
      "metadata": {
        "id": "Bg8g44S1jMgo",
        "colab": {
          "base_uri": "https://localhost:8080/",
          "height": 1000
        },
        "outputId": "408f25dc-d458-4658-91e8-3bd64d1cfb5a"
      },
      "source": [
        "\n",
        "for i in col_names:\n",
        "\n",
        "    plt.subplots(figsize=(7,6), dpi=100)\n",
        "    sns.distplot( df4.loc[df4['Machine failure']==1, i] , color=\"dodgerblue\", label=\"Downtime\")\n",
        "    sns.distplot( df4.loc[df4['Machine failure']==0, i] , color=\"deeppink\", label=\"NO Downtime\")\n",
        "    plt.title('Machine Failure Histogram')\n",
        "    plt.legend();\n",
        "\n",
        "\n"
      ],
      "execution_count": 29,
      "outputs": [
        {
          "output_type": "display_data",
          "data": {
            "image/png": "[encoded data removed]",
            "text/plain": [
              "<Figure size 700x600 with 1 Axes>"
            ]
          },
          "metadata": {
            "needs_background": "light"
          }
        },
        {
          "output_type": "display_data",
          "data": {
            "image/png": "[encoded data removed]",
            "text/plain": [
              "<Figure size 700x600 with 1 Axes>"
            ]
          },
          "metadata": {
            "needs_background": "light"
          }
        },
        {
          "output_type": "display_data",
          "data": {
            "image/png": "[encoded data removed]",
            "text/plain": [
              "<Figure size 700x600 with 1 Axes>"
            ]
          },
          "metadata": {
            "needs_background": "light"
          }
        }
      ]
    },
    {
      "cell_type": "markdown",
      "metadata": {
        "id": "bCZk102Q238s"
      },
      "source": [
        "# ***Data Cleaning & New Features Creation***"
      ]
    },
    {
      "cell_type": "code",
      "metadata": {
        "id": "lUjuF19I9MGx",
        "colab": {
          "base_uri": "https://localhost:8080/",
          "height": 234
        },
        "outputId": "6cbbb6c3-5a02-411b-8705-18d19848869a"
      },
      "source": [
        "# Instead of removing outliers just replacing the values with 99th and 1st percentile values\n",
        "\n",
        "df['Temp Diff'] = (abs(df['Air temperature [K]']-df['Process temperature [K]']))\n",
        "df['Power'] = df['Torque [Nm]']*df['Rotational speed [rpm]']/9.548/1000\n",
        "\n",
        "df5 = df[['Type','Tool wear [min]',  'Temp Diff', 'Power','Machine failure','TWF','OSF','RNF','HDF','PWF']]\n",
        "df5.head(6)\n"
      ],
      "execution_count": 30,
      "outputs": [
        {
          "output_type": "execute_result",
          "data": {
            "text/html": [
              "<div>\n",
              "<style scoped>\n",
              "    .dataframe tbody tr th:only-of-type {\n",
              "        vertical-align: middle;\n",
              "    }\n",
              "\n",
              "    .dataframe tbody tr th {\n",
              "        vertical-align: top;\n",
              "    }\n",
              "\n",
              "    .dataframe thead th {\n",
              "        text-align: right;\n",
              "    }\n",
              "</style>\n",
              "<table border=\"1\" class=\"dataframe\">\n",
              "  <thead>\n",
              "    <tr style=\"text-align: right;\">\n",
              "      <th></th>\n",
              "      <th>Type</th>\n",
              "      <th>Tool wear [min]</th>\n",
              "      <th>Temp Diff</th>\n",
              "      <th>Power</th>\n",
              "      <th>Machine failure</th>\n",
              "      <th>TWF</th>\n",
              "      <th>OSF</th>\n",
              "      <th>RNF</th>\n",
              "      <th>HDF</th>\n",
              "      <th>PWF</th>\n",
              "    </tr>\n",
              "  </thead>\n",
              "  <tbody>\n",
              "    <tr>\n",
              "      <th>0</th>\n",
              "      <td>M</td>\n",
              "      <td>0.0</td>\n",
              "      <td>10.5</td>\n",
              "      <td>NaN</td>\n",
              "      <td>0.0</td>\n",
              "      <td>0.0</td>\n",
              "      <td>0.0</td>\n",
              "      <td>0.0</td>\n",
              "      <td>0.0</td>\n",
              "      <td>0.0</td>\n",
              "    </tr>\n",
              "    <tr>\n",
              "      <th>1</th>\n",
              "      <td>L</td>\n",
              "      <td>3.0</td>\n",
              "      <td>10.5</td>\n",
              "      <td>6.827650</td>\n",
              "      <td>0.0</td>\n",
              "      <td>0.0</td>\n",
              "      <td>0.0</td>\n",
              "      <td>0.0</td>\n",
              "      <td>0.0</td>\n",
              "      <td>0.0</td>\n",
              "    </tr>\n",
              "    <tr>\n",
              "      <th>2</th>\n",
              "      <td>L</td>\n",
              "      <td>5.0</td>\n",
              "      <td>10.4</td>\n",
              "      <td>7.750440</td>\n",
              "      <td>0.0</td>\n",
              "      <td>0.0</td>\n",
              "      <td>0.0</td>\n",
              "      <td>0.0</td>\n",
              "      <td>0.0</td>\n",
              "      <td>0.0</td>\n",
              "    </tr>\n",
              "    <tr>\n",
              "      <th>3</th>\n",
              "      <td>L</td>\n",
              "      <td>7.0</td>\n",
              "      <td>10.4</td>\n",
              "      <td>5.928310</td>\n",
              "      <td>0.0</td>\n",
              "      <td>0.0</td>\n",
              "      <td>0.0</td>\n",
              "      <td>0.0</td>\n",
              "      <td>0.0</td>\n",
              "      <td>0.0</td>\n",
              "    </tr>\n",
              "    <tr>\n",
              "      <th>4</th>\n",
              "      <td>L</td>\n",
              "      <td>9.0</td>\n",
              "      <td>10.5</td>\n",
              "      <td>5.898618</td>\n",
              "      <td>0.0</td>\n",
              "      <td>0.0</td>\n",
              "      <td>0.0</td>\n",
              "      <td>0.0</td>\n",
              "      <td>0.0</td>\n",
              "      <td>0.0</td>\n",
              "    </tr>\n",
              "    <tr>\n",
              "      <th>5</th>\n",
              "      <td>M</td>\n",
              "      <td>11.0</td>\n",
              "      <td>10.5</td>\n",
              "      <td>6.253404</td>\n",
              "      <td>0.0</td>\n",
              "      <td>0.0</td>\n",
              "      <td>0.0</td>\n",
              "      <td>0.0</td>\n",
              "      <td>0.0</td>\n",
              "      <td>0.0</td>\n",
              "    </tr>\n",
              "  </tbody>\n",
              "</table>\n",
              "</div>"
            ],
            "text/plain": [
              "  Type  Tool wear [min]  Temp Diff     Power  ...  OSF  RNF  HDF  PWF\n",
              "0    M              0.0       10.5       NaN  ...  0.0  0.0  0.0  0.0\n",
              "1    L              3.0       10.5  6.827650  ...  0.0  0.0  0.0  0.0\n",
              "2    L              5.0       10.4  7.750440  ...  0.0  0.0  0.0  0.0\n",
              "3    L              7.0       10.4  5.928310  ...  0.0  0.0  0.0  0.0\n",
              "4    L              9.0       10.5  5.898618  ...  0.0  0.0  0.0  0.0\n",
              "5    M             11.0       10.5  6.253404  ...  0.0  0.0  0.0  0.0\n",
              "\n",
              "[6 rows x 10 columns]"
            ]
          },
          "metadata": {},
          "execution_count": 30
        }
      ]
    },
    {
      "cell_type": "code",
      "metadata": {
        "colab": {
          "base_uri": "https://localhost:8080/"
        },
        "id": "myHEdtcPyJTB",
        "outputId": "ca161f39-9a1d-4c37-fee6-8b7405369d86"
      },
      "source": [
        "df5.shape"
      ],
      "execution_count": 31,
      "outputs": [
        {
          "output_type": "execute_result",
          "data": {
            "text/plain": [
              "(9999, 10)"
            ]
          },
          "metadata": {},
          "execution_count": 31
        }
      ]
    },
    {
      "cell_type": "code",
      "metadata": {
        "id": "SLFQW1V9yvKH"
      },
      "source": [
        "df5['Power']=df5['Power'].clip(lower=df5['Power'].quantile(0.01), upper=df5['Power'].quantile(0.99))\n",
        "df5['Tool wear [min]']=df5['Tool wear [min]'].clip(lower=df5['Tool wear [min]'].quantile(0.01), upper=df5['Tool wear [min]'].quantile(0.99))\n",
        "df5['Temp Diff']=df5['Temp Diff'].clip(lower=df5['Temp Diff'].quantile(0.01), upper=df5['Temp Diff'].quantile(0.99))\n"
      ],
      "execution_count": 32,
      "outputs": []
    },
    {
      "cell_type": "code",
      "metadata": {
        "colab": {
          "base_uri": "https://localhost:8080/",
          "height": 1000
        },
        "id": "k55usAYfz5hV",
        "outputId": "ec3eb0d1-fcba-403b-aa41-e5945b6d3b2b"
      },
      "source": [
        "\n",
        "for i in col_names:\n",
        "\n",
        "    plt.subplots(figsize=(7,6), dpi=100)\n",
        "    sns.distplot( df5.loc[df5['Machine failure']==1, i] , color=\"dodgerblue\", label=\"Downtime\")\n",
        "    sns.distplot( df5.loc[df5['Machine failure']==0, i] , color=\"deeppink\", label=\"NO Downtime\")\n",
        "    plt.title('Machine Failure Histogram')\n",
        "    plt.legend();\n",
        "\n",
        "\n"
      ],
      "execution_count": 33,
      "outputs": [
        {
          "output_type": "display_data",
          "data": {
            "image/png": "[encoded data removed]",
            "text/plain": [
              "<Figure size 700x600 with 1 Axes>"
            ]
          },
          "metadata": {
            "needs_background": "light"
          }
        },
        {
          "output_type": "display_data",
          "data": {
            "image/png": "[encoded data removed]",
            "text/plain": [
              "<Figure size 700x600 with 1 Axes>"
            ]
          },
          "metadata": {
            "needs_background": "light"
          }
        },
        {
          "output_type": "display_data",
          "data": {
            "image/png": "[encoded data removed]",
            "text/plain": [
              "<Figure size 700x600 with 1 Axes>"
            ]
          },
          "metadata": {
            "needs_background": "light"
          }
        }
      ]
    },
    {
      "cell_type": "markdown",
      "metadata": {
        "id": "QcTGxADB3jTt"
      },
      "source": [
        "# ***Data Preparation for Model Building***"
      ]
    },
    {
      "cell_type": "code",
      "metadata": {
        "id": "OcC0Wg3g3rLn"
      },
      "source": [
        "df5 = df5.dropna(axis=0)\n",
        "df5.shape\n",
        "df7=df5.copy()"
      ],
      "execution_count": 34,
      "outputs": []
    },
    {
      "cell_type": "code",
      "metadata": {
        "colab": {
          "base_uri": "https://localhost:8080/",
          "height": 142
        },
        "id": "lb5YStu56mrE",
        "outputId": "755dd474-f2d8-44d0-b75a-d7778f70f5d5"
      },
      "source": [
        "pd.crosstab(df5['Machine failure'],df5['RNF']) "
      ],
      "execution_count": 35,
      "outputs": [
        {
          "output_type": "execute_result",
          "data": {
            "text/html": [
              "<div>\n",
              "<style scoped>\n",
              "    .dataframe tbody tr th:only-of-type {\n",
              "        vertical-align: middle;\n",
              "    }\n",
              "\n",
              "    .dataframe tbody tr th {\n",
              "        vertical-align: top;\n",
              "    }\n",
              "\n",
              "    .dataframe thead th {\n",
              "        text-align: right;\n",
              "    }\n",
              "</style>\n",
              "<table border=\"1\" class=\"dataframe\">\n",
              "  <thead>\n",
              "    <tr style=\"text-align: right;\">\n",
              "      <th>RNF</th>\n",
              "      <th>0.0</th>\n",
              "      <th>1.0</th>\n",
              "    </tr>\n",
              "    <tr>\n",
              "      <th>Machine failure</th>\n",
              "      <th></th>\n",
              "      <th></th>\n",
              "    </tr>\n",
              "  </thead>\n",
              "  <tbody>\n",
              "    <tr>\n",
              "      <th>0.0</th>\n",
              "      <td>9590</td>\n",
              "      <td>18</td>\n",
              "    </tr>\n",
              "    <tr>\n",
              "      <th>1.0</th>\n",
              "      <td>336</td>\n",
              "      <td>1</td>\n",
              "    </tr>\n",
              "  </tbody>\n",
              "</table>\n",
              "</div>"
            ],
            "text/plain": [
              "RNF               0.0  1.0\n",
              "Machine failure           \n",
              "0.0              9590   18\n",
              "1.0               336    1"
            ]
          },
          "metadata": {},
          "execution_count": 35
        }
      ]
    },
    {
      "cell_type": "code",
      "metadata": {
        "id": "7vJQeqv45pdL"
      },
      "source": [
        "from sklearn.model_selection import train_test_split\n",
        "x=df5.drop(['Machine failure','TWF','OSF','RNF','HDF','PWF'], axis=1)\n",
        "y=df5['Machine failure']\n",
        "\n",
        "x= pd.get_dummies(x)\n",
        "x= x.drop(['Type_L'], axis=1)\n",
        "\n",
        "xtrain, xtest, ytrain, ytest = train_test_split(x, y,\n",
        "                                                    stratify=y, \n",
        "                                                    test_size=0.25,\n",
        "                                                    random_state=123)"
      ],
      "execution_count": 36,
      "outputs": []
    },
    {
      "cell_type": "code",
      "metadata": {
        "colab": {
          "base_uri": "https://localhost:8080/"
        },
        "id": "VUTzTx-W6y1Z",
        "outputId": "2c24f957-2d46-402a-e000-b0730766d087"
      },
      "source": [
        "print(len(xtrain),len(xtest))"
      ],
      "execution_count": 37,
      "outputs": [
        {
          "output_type": "stream",
          "name": "stdout",
          "text": [
            "7458 2487\n"
          ]
        }
      ]
    },
    {
      "cell_type": "code",
      "metadata": {
        "colab": {
          "base_uri": "https://localhost:8080/",
          "height": 172
        },
        "id": "QVlQORqw9OUV",
        "outputId": "b31b1e26-0d24-4569-9c43-1b2aa2760925"
      },
      "source": [
        "xtest.head(4)"
      ],
      "execution_count": 38,
      "outputs": [
        {
          "output_type": "execute_result",
          "data": {
            "text/html": [
              "<div>\n",
              "<style scoped>\n",
              "    .dataframe tbody tr th:only-of-type {\n",
              "        vertical-align: middle;\n",
              "    }\n",
              "\n",
              "    .dataframe tbody tr th {\n",
              "        vertical-align: top;\n",
              "    }\n",
              "\n",
              "    .dataframe thead th {\n",
              "        text-align: right;\n",
              "    }\n",
              "</style>\n",
              "<table border=\"1\" class=\"dataframe\">\n",
              "  <thead>\n",
              "    <tr style=\"text-align: right;\">\n",
              "      <th></th>\n",
              "      <th>Tool wear [min]</th>\n",
              "      <th>Temp Diff</th>\n",
              "      <th>Power</th>\n",
              "      <th>Type_H</th>\n",
              "      <th>Type_M</th>\n",
              "    </tr>\n",
              "  </thead>\n",
              "  <tbody>\n",
              "    <tr>\n",
              "      <th>1330</th>\n",
              "      <td>214.0</td>\n",
              "      <td>11.3</td>\n",
              "      <td>5.364390</td>\n",
              "      <td>0</td>\n",
              "      <td>0</td>\n",
              "    </tr>\n",
              "    <tr>\n",
              "      <th>7572</th>\n",
              "      <td>158.0</td>\n",
              "      <td>10.8</td>\n",
              "      <td>5.020276</td>\n",
              "      <td>0</td>\n",
              "      <td>0</td>\n",
              "    </tr>\n",
              "    <tr>\n",
              "      <th>1359</th>\n",
              "      <td>54.0</td>\n",
              "      <td>11.5</td>\n",
              "      <td>7.396439</td>\n",
              "      <td>0</td>\n",
              "      <td>0</td>\n",
              "    </tr>\n",
              "    <tr>\n",
              "      <th>3953</th>\n",
              "      <td>22.0</td>\n",
              "      <td>9.1</td>\n",
              "      <td>6.139296</td>\n",
              "      <td>0</td>\n",
              "      <td>1</td>\n",
              "    </tr>\n",
              "  </tbody>\n",
              "</table>\n",
              "</div>"
            ],
            "text/plain": [
              "      Tool wear [min]  Temp Diff     Power  Type_H  Type_M\n",
              "1330            214.0       11.3  5.364390       0       0\n",
              "7572            158.0       10.8  5.020276       0       0\n",
              "1359             54.0       11.5  7.396439       0       0\n",
              "3953             22.0        9.1  6.139296       0       1"
            ]
          },
          "metadata": {},
          "execution_count": 38
        }
      ]
    },
    {
      "cell_type": "markdown",
      "metadata": {
        "id": "9Sms-VtYaa-4"
      },
      "source": [
        "# ***Trying Base Model as Logistic Regression***"
      ]
    },
    {
      "cell_type": "code",
      "metadata": {
        "colab": {
          "base_uri": "https://localhost:8080/"
        },
        "id": "9MERxIgHV60v",
        "outputId": "01e7ec77-822e-4dfa-fec1-af882cc930a8"
      },
      "source": [
        "from sklearn.linear_model import LogisticRegression\n",
        "model = LogisticRegression(solver='saga')\n",
        "model.fit(xtrain,ytrain)\n",
        "model.score(xtrain,ytrain)"
      ],
      "execution_count": null,
      "outputs": [
        {
          "output_type": "execute_result",
          "data": {
            "text/plain": [
              "0.9660766961651918"
            ]
          },
          "metadata": {},
          "execution_count": 97
        }
      ]
    },
    {
      "cell_type": "code",
      "metadata": {
        "colab": {
          "base_uri": "https://localhost:8080/"
        },
        "id": "K2s7Wjh8XZRk",
        "outputId": "bfb827db-6c51-41f2-c277-381e30333fdc"
      },
      "source": [
        "model.score(xtest,ytest)"
      ],
      "execution_count": null,
      "outputs": [
        {
          "output_type": "execute_result",
          "data": {
            "text/plain": [
              "0.9662243667068757"
            ]
          },
          "metadata": {},
          "execution_count": 98
        }
      ]
    },
    {
      "cell_type": "code",
      "metadata": {
        "colab": {
          "base_uri": "https://localhost:8080/"
        },
        "id": "cRDxawSeXbUp",
        "outputId": "30300d3a-acc8-40fc-d463-46da605053bd"
      },
      "source": [
        "model.predict_proba(xtest)"
      ],
      "execution_count": null,
      "outputs": [
        {
          "output_type": "execute_result",
          "data": {
            "text/plain": [
              "array([[0.98505802, 0.01494198],\n",
              "       [0.98833206, 0.01166794],\n",
              "       [0.99189117, 0.00810883],\n",
              "       ...,\n",
              "       [0.93572375, 0.06427625],\n",
              "       [0.93229974, 0.06770026],\n",
              "       [0.99469246, 0.00530754]])"
            ]
          },
          "metadata": {},
          "execution_count": 99
        }
      ]
    },
    {
      "cell_type": "code",
      "metadata": {
        "colab": {
          "base_uri": "https://localhost:8080/"
        },
        "id": "8lcYuUzzXloh",
        "outputId": "56f02609-c78c-4607-b36f-0999aec370c4"
      },
      "source": [
        "from sklearn.metrics import confusion_matrix\n",
        "from sklearn.metrics import classification_report\n",
        "\n",
        "ypred=model.predict(xtest)\n",
        "from sklearn.metrics import confusion_matrix\n",
        "cm= confusion_matrix(ytest,ypred)\n",
        "cm\n",
        "\n",
        "\n",
        "\n",
        "# classification report for precision, recall f1-score and accuracy\n",
        "matrix = classification_report(ytest,ypred,labels=[1,0])\n",
        "print('Classification report : \\n',matrix)"
      ],
      "execution_count": null,
      "outputs": [
        {
          "output_type": "stream",
          "name": "stdout",
          "text": [
            "Classification report : \n",
            "               precision    recall  f1-score   support\n",
            "\n",
            "           1       0.00      0.00      0.00        84\n",
            "           0       0.97      1.00      0.98      2403\n",
            "\n",
            "    accuracy                           0.97      2487\n",
            "   macro avg       0.48      0.50      0.49      2487\n",
            "weighted avg       0.93      0.97      0.95      2487\n",
            "\n"
          ]
        }
      ]
    },
    {
      "cell_type": "code",
      "metadata": {
        "colab": {
          "base_uri": "https://localhost:8080/"
        },
        "id": "0h8nOEf4YTXp",
        "outputId": "6a02c533-fe1a-4922-9748-1bbe8d51da7f"
      },
      "source": [
        "# visualizing the confusion matrix using Seaborn library in python\n",
        "import seaborn as sn\n",
        "plt.figure(figsize=(10,7))\n",
        "sn.heatmap(cm, annot=True)\n",
        "plt.xlabel('Predicted')\n",
        "plt.ylabel('Truth') # just look at the confusion matrix not even a single downtime is predicted"
      ],
      "execution_count": null,
      "outputs": [
        {
          "output_type": "execute_result",
          "data": {
            "text/plain": [
              "Text(69.0, 0.5, 'Truth')"
            ]
          },
          "metadata": {},
          "execution_count": 101
        },
        {
          "output_type": "display_data",
          "data": {
            "image/png": "[encoded data removed]",
            "text/plain": [
              "<Figure size 720x504 with 2 Axes>"
            ]
          },
          "metadata": {
            "needs_background": "light"
          }
        }
      ]
    },
    {
      "cell_type": "code",
      "metadata": {
        "colab": {
          "base_uri": "https://localhost:8080/"
        },
        "id": "sHqJZcFgYrMj",
        "outputId": "bf0aafd4-40e0-4077-c13c-3d365b43a756"
      },
      "source": [
        "ypred = model.predict_proba(xtest)[::,1]\n",
        "!pip install plot_metric\n",
        "from plot_metric.functions import BinaryClassification\n",
        "# Visualisation with plot_metric\n",
        "bc = BinaryClassification(ytest, ypred, labels=[\"Class 1\", \"Class 2\"])\n",
        "\n",
        "# Figures\n",
        "plt.figure(figsize=(5,5))\n",
        "bc.plot_roc_curve()\n",
        "plt.show()\n",
        "# Although the ROC curve is 81% but look at threshold, its 0,0 so it means this model doesnt work\n"
      ],
      "execution_count": null,
      "outputs": [
        {
          "output_type": "stream",
          "name": "stdout",
          "text": [
            "Collecting plot_metric\n",
            "  Downloading plot_metric-0.0.6-py3-none-any.whl (13 kB)\n",
            "Requirement already satisfied: matplotlib>=3.0.2 in /usr/local/lib/python3.7/dist-packages (from plot_metric) (3.2.2)\n",
            "Requirement already satisfied: scikit-learn>=0.21.2 in /usr/local/lib/python3.7/dist-packages (from plot_metric) (0.22.2.post1)\n",
            "Requirement already satisfied: pandas>=0.23.4 in /usr/local/lib/python3.7/dist-packages (from plot_metric) (1.1.5)\n",
            "Requirement already satisfied: seaborn>=0.9.0 in /usr/local/lib/python3.7/dist-packages (from plot_metric) (0.11.1)\n",
            "Requirement already satisfied: numpy>=1.15.4 in /usr/local/lib/python3.7/dist-packages (from plot_metric) (1.19.5)\n",
            "Requirement already satisfied: colorlover>=0.3.0 in /usr/local/lib/python3.7/dist-packages (from plot_metric) (0.3.0)\n",
            "Requirement already satisfied: scipy>=1.1.0 in /usr/local/lib/python3.7/dist-packages (from plot_metric) (1.4.1)\n",
            "Requirement already satisfied: python-dateutil>=2.1 in /usr/local/lib/python3.7/dist-packages (from matplotlib>=3.0.2->plot_metric) (2.8.2)\n",
            "Requirement already satisfied: kiwisolver>=1.0.1 in /usr/local/lib/python3.7/dist-packages (from matplotlib>=3.0.2->plot_metric) (1.3.1)\n",
            "Requirement already satisfied: cycler>=0.10 in /usr/local/lib/python3.7/dist-packages (from matplotlib>=3.0.2->plot_metric) (0.10.0)\n",
            "Requirement already satisfied: pyparsing!=2.0.4,!=2.1.2,!=2.1.6,>=2.0.1 in /usr/local/lib/python3.7/dist-packages (from matplotlib>=3.0.2->plot_metric) (2.4.7)\n",
            "Requirement already satisfied: six in /usr/local/lib/python3.7/dist-packages (from cycler>=0.10->matplotlib>=3.0.2->plot_metric) (1.15.0)\n",
            "Requirement already satisfied: pytz>=2017.2 in /usr/local/lib/python3.7/dist-packages (from pandas>=0.23.4->plot_metric) (2018.9)\n",
            "Requirement already satisfied: joblib>=0.11 in /usr/local/lib/python3.7/dist-packages (from scikit-learn>=0.21.2->plot_metric) (1.0.1)\n",
            "Installing collected packages: plot-metric\n",
            "Successfully installed plot-metric-0.0.6\n"
          ]
        },
        {
          "output_type": "display_data",
          "data": {
            "image/png": "[encoded data removed]",
            "text/plain": [
              "<Figure size 360x360 with 1 Axes>"
            ]
          },
          "metadata": {}
        }
      ]
    },
    {
      "cell_type": "markdown",
      "metadata": {
        "id": "3q3hGWk3bH_X"
      },
      "source": [
        "# ***Trying all models togather***"
      ]
    },
    {
      "cell_type": "code",
      "metadata": {
        "id": "_3mSh6IIbMIV"
      },
      "source": [
        "# now finding out the best model\n",
        "# trying all models with Default parameters \n",
        "\n",
        "\n",
        "model_params = {\n",
        "    'svm':{\n",
        "        'model':SVC(gamma='auto'),\n",
        "        'params':{\n",
        "            'C': [1,10,20],\n",
        "            'kernel':['rbf','linear']\n",
        "        }\n",
        "    },\n",
        "    'RandomForest':{\n",
        "        'model':RandomForestClassifier(),\n",
        "        'params':{\n",
        "            'n_estimators':[1,5,10]\n",
        "        }\n",
        "    },\n",
        "        'LogisticRegresson':{\n",
        "        'model':LogisticRegression(solver='saga',multi_class='auto'),\n",
        "        'params':{\n",
        "            'C':[1,5,10]\n",
        "        }\n",
        "    }\n",
        "}"
      ],
      "execution_count": null,
      "outputs": []
    },
    {
      "cell_type": "code",
      "metadata": {
        "colab": {
          "base_uri": "https://localhost:8080/"
        },
        "id": "xQSKhC-WbafA",
        "outputId": "eca51ba0-8ac9-4eb8-c992-3e3ba83f0129"
      },
      "source": [
        "scores =[]\n",
        "for model_name,mp in model_params.items():\n",
        "  clf= GridSearchCV(mp['model'],mp['params'],cv=5,return_train_score=False)\n",
        "  clf.fit(x,y)\n",
        "  scores.append({\n",
        "      'model':model_name,\n",
        "      'best_score':clf.best_score_,\n",
        "      'best_params':clf.best_params_\n",
        "  })\n",
        "pd.DataFrame(scores)"
      ],
      "execution_count": null,
      "outputs": [
        {
          "output_type": "execute_result",
          "data": {
            "text/html": [
              "<div>\n",
              "<style scoped>\n",
              "    .dataframe tbody tr th:only-of-type {\n",
              "        vertical-align: middle;\n",
              "    }\n",
              "\n",
              "    .dataframe tbody tr th {\n",
              "        vertical-align: top;\n",
              "    }\n",
              "\n",
              "    .dataframe thead th {\n",
              "        text-align: right;\n",
              "    }\n",
              "</style>\n",
              "<table border=\"1\" class=\"dataframe\">\n",
              "  <thead>\n",
              "    <tr style=\"text-align: right;\">\n",
              "      <th></th>\n",
              "      <th>model</th>\n",
              "      <th>best_score</th>\n",
              "      <th>best_params</th>\n",
              "    </tr>\n",
              "  </thead>\n",
              "  <tbody>\n",
              "    <tr>\n",
              "      <th>0</th>\n",
              "      <td>svm</td>\n",
              "      <td>0.966616</td>\n",
              "      <td>{'C': 1, 'kernel': 'rbf'}</td>\n",
              "    </tr>\n",
              "    <tr>\n",
              "      <th>1</th>\n",
              "      <td>RandomForest</td>\n",
              "      <td>0.928406</td>\n",
              "      <td>{'n_estimators': 10}</td>\n",
              "    </tr>\n",
              "    <tr>\n",
              "      <th>2</th>\n",
              "      <td>LogisticRegresson</td>\n",
              "      <td>0.966315</td>\n",
              "      <td>{'C': 1}</td>\n",
              "    </tr>\n",
              "  </tbody>\n",
              "</table>\n",
              "</div>"
            ],
            "text/plain": [
              "               model  best_score                best_params\n",
              "0                svm    0.966616  {'C': 1, 'kernel': 'rbf'}\n",
              "1       RandomForest    0.928406       {'n_estimators': 10}\n",
              "2  LogisticRegresson    0.966315                   {'C': 1}"
            ]
          },
          "metadata": {},
          "execution_count": 104
        }
      ]
    },
    {
      "cell_type": "code",
      "metadata": {
        "colab": {
          "base_uri": "https://localhost:8080/"
        },
        "id": "kWr1RxLfnjQd",
        "outputId": "ebf12ce0-ee17-4696-8750-9c9e642710fb"
      },
      "source": [
        "from sklearn.metrics import confusion_matrix\n",
        "from sklearn.metrics import f1_score\n",
        "\n",
        "d = pd.DataFrame()\n",
        "d"
      ],
      "execution_count": null,
      "outputs": [
        {
          "output_type": "execute_result",
          "data": {
            "text/html": [
              "<div>\n",
              "<style scoped>\n",
              "    .dataframe tbody tr th:only-of-type {\n",
              "        vertical-align: middle;\n",
              "    }\n",
              "\n",
              "    .dataframe tbody tr th {\n",
              "        vertical-align: top;\n",
              "    }\n",
              "\n",
              "    .dataframe thead th {\n",
              "        text-align: right;\n",
              "    }\n",
              "</style>\n",
              "<table border=\"1\" class=\"dataframe\">\n",
              "  <thead>\n",
              "    <tr style=\"text-align: right;\">\n",
              "      <th></th>\n",
              "    </tr>\n",
              "  </thead>\n",
              "  <tbody>\n",
              "  </tbody>\n",
              "</table>\n",
              "</div>"
            ],
            "text/plain": [
              "Empty DataFrame\n",
              "Columns: []\n",
              "Index: []"
            ]
          },
          "metadata": {},
          "execution_count": 105
        }
      ]
    },
    {
      "cell_type": "code",
      "metadata": {
        "id": "cvNb4SNupI0m",
        "colab": {
          "base_uri": "https://localhost:8080/"
        },
        "outputId": "8b4892d6-f8d1-41ee-e08b-580e5752bd7b"
      },
      "source": [
        "'''\n",
        "Cost =np.arange(1,5,1)\n",
        "Gamma = np.arange(1,2,0.1)\n",
        "kernel = ['rbf','linear','sigmoid','poly']\n",
        "\n",
        "\n",
        "\n",
        "for i in kernel:\n",
        "  for j in Gamma:\n",
        "    for k in Cost:\n",
        "      model = SVC(kernel=i,\n",
        "                  gamma=j,\n",
        "                  C=k)\n",
        "      model.fit(xtrain,ytrain)\n",
        "      ypred=model.predict(xtest)\n",
        "      Acc= model.score(xtest,ytest)\n",
        "      d= d.append([[i,j,k,Acc]])\n",
        "      '''"
      ],
      "execution_count": null,
      "outputs": [
        {
          "output_type": "execute_result",
          "data": {
            "application/vnd.google.colaboratory.intrinsic+json": {
              "type": "string"
            },
            "text/plain": [
              "\"\\nCost =np.arange(1,5,1)\\nGamma = np.arange(1,2,0.1)\\nkernel = ['rbf','linear','sigmoid','poly']\\n\\n\\n\\nfor i in kernel:\\n  for j in Gamma:\\n    for k in Cost:\\n      model = SVC(kernel=i,\\n                  gamma=j,\\n                  C=k)\\n      model.fit(xtrain,ytrain)\\n      ypred=model.predict(xtest)\\n      Acc= model.score(xtest,ytest)\\n      d= d.append([[i,j,k,Acc]])\\n      \""
            ]
          },
          "metadata": {},
          "execution_count": 106
        }
      ]
    },
    {
      "cell_type": "code",
      "metadata": {
        "id": "25nBhtsjpLCG",
        "colab": {
          "base_uri": "https://localhost:8080/"
        },
        "outputId": "b12e59d7-b06d-4988-abae-963e659c7cf0"
      },
      "source": [
        "'''columns = ['Kernel','Gamma','Cost','Accuracy']\n",
        "d.columns = columns'''"
      ],
      "execution_count": null,
      "outputs": [
        {
          "output_type": "execute_result",
          "data": {
            "application/vnd.google.colaboratory.intrinsic+json": {
              "type": "string"
            },
            "text/plain": [
              "\"columns = ['Kernel','Gamma','Cost','Accuracy']\\nd.columns = columns\""
            ]
          },
          "metadata": {},
          "execution_count": 107
        }
      ]
    },
    {
      "cell_type": "code",
      "metadata": {
        "id": "1TfQ0bOGpM3C"
      },
      "source": [
        "#d"
      ],
      "execution_count": null,
      "outputs": []
    },
    {
      "cell_type": "code",
      "metadata": {
        "id": "fuapxZMnpR0i"
      },
      "source": [
        "#maxValueIndex = d['Accuracy'].max()\n",
        "#maxValueIndex"
      ],
      "execution_count": null,
      "outputs": []
    },
    {
      "cell_type": "code",
      "metadata": {
        "id": "vcJvLKyynrU7"
      },
      "source": [
        "#model.score(xtest,ytest)"
      ],
      "execution_count": null,
      "outputs": []
    },
    {
      "cell_type": "code",
      "metadata": {
        "id": "misxYyI6nvZz",
        "colab": {
          "base_uri": "https://localhost:8080/"
        },
        "outputId": "3953d3a0-38f7-4190-cd40-fde8b7959f11"
      },
      "source": [
        "from sklearn.metrics import confusion_matrix\n",
        "from sklearn.metrics import classification_report\n",
        "\n",
        "ypred=model.predict(xtest)\n",
        "from sklearn.metrics import confusion_matrix\n",
        "cm= confusion_matrix(ytest,ypred)\n",
        "cm\n",
        "\n",
        "# classification report for precision, recall f1-score and accuracy\n",
        "matrix = classification_report(ytest,ypred,labels=[1,0])\n",
        "print('Classification report : \\n',matrix)"
      ],
      "execution_count": null,
      "outputs": [
        {
          "output_type": "stream",
          "name": "stdout",
          "text": [
            "Classification report : \n",
            "               precision    recall  f1-score   support\n",
            "\n",
            "           1       0.00      0.00      0.00        84\n",
            "           0       0.97      1.00      0.98      2403\n",
            "\n",
            "    accuracy                           0.97      2487\n",
            "   macro avg       0.48      0.50      0.49      2487\n",
            "weighted avg       0.93      0.97      0.95      2487\n",
            "\n"
          ]
        }
      ]
    },
    {
      "cell_type": "code",
      "metadata": {
        "id": "nl4iHDZxn0Yj",
        "colab": {
          "base_uri": "https://localhost:8080/"
        },
        "outputId": "4050a9bc-1c47-4eb0-acaa-5686f2d0847c"
      },
      "source": [
        "# visualizing the confusion matrix using Seaborn library in python\n",
        "import seaborn as sn\n",
        "plt.figure(figsize=(10,7))\n",
        "sn.heatmap(cm, annot=True)\n",
        "plt.xlabel('Predicted')\n",
        "plt.ylabel('Truth') # just look at the confusion matrix not even a single downtime is predicted"
      ],
      "execution_count": null,
      "outputs": [
        {
          "output_type": "execute_result",
          "data": {
            "text/plain": [
              "Text(69.0, 0.5, 'Truth')"
            ]
          },
          "metadata": {},
          "execution_count": 112
        },
        {
          "output_type": "display_data",
          "data": {
            "image/png": "[encoded data removed]",
            "text/plain": [
              "<Figure size 720x504 with 2 Axes>"
            ]
          },
          "metadata": {}
        }
      ]
    },
    {
      "cell_type": "markdown",
      "metadata": {
        "id": "R21ws1nEAMNH"
      },
      "source": [
        "# ***Trying with Original Dataset***"
      ]
    },
    {
      "cell_type": "code",
      "metadata": {
        "colab": {
          "base_uri": "https://localhost:8080/"
        },
        "id": "D9nTyTJxAj7_",
        "outputId": "9763667c-4e3b-46b6-fc1a-d7146c779206"
      },
      "source": [
        "df5 = df.dropna(axis=0)\n",
        "df5.shape"
      ],
      "execution_count": null,
      "outputs": [
        {
          "output_type": "execute_result",
          "data": {
            "text/plain": [
              "(9945, 15)"
            ]
          },
          "metadata": {},
          "execution_count": 113
        }
      ]
    },
    {
      "cell_type": "code",
      "metadata": {
        "colab": {
          "base_uri": "https://localhost:8080/",
          "height": 142
        },
        "id": "OOv0yvqRAqqw",
        "outputId": "80988de1-8d08-4438-9011-2bc3ab23bf02"
      },
      "source": [
        "pd.crosstab(df5['Machine failure'],df5['RNF']) "
      ],
      "execution_count": null,
      "outputs": [
        {
          "output_type": "execute_result",
          "data": {
            "text/html": [
              "<div>\n",
              "<style scoped>\n",
              "    .dataframe tbody tr th:only-of-type {\n",
              "        vertical-align: middle;\n",
              "    }\n",
              "\n",
              "    .dataframe tbody tr th {\n",
              "        vertical-align: top;\n",
              "    }\n",
              "\n",
              "    .dataframe thead th {\n",
              "        text-align: right;\n",
              "    }\n",
              "</style>\n",
              "<table border=\"1\" class=\"dataframe\">\n",
              "  <thead>\n",
              "    <tr style=\"text-align: right;\">\n",
              "      <th>RNF</th>\n",
              "      <th>0.0</th>\n",
              "      <th>1.0</th>\n",
              "    </tr>\n",
              "    <tr>\n",
              "      <th>Machine failure</th>\n",
              "      <th></th>\n",
              "      <th></th>\n",
              "    </tr>\n",
              "  </thead>\n",
              "  <tbody>\n",
              "    <tr>\n",
              "      <th>0.0</th>\n",
              "      <td>9590</td>\n",
              "      <td>18</td>\n",
              "    </tr>\n",
              "    <tr>\n",
              "      <th>1.0</th>\n",
              "      <td>336</td>\n",
              "      <td>1</td>\n",
              "    </tr>\n",
              "  </tbody>\n",
              "</table>\n",
              "</div>"
            ],
            "text/plain": [
              "RNF               0.0  1.0\n",
              "Machine failure           \n",
              "0.0              9590   18\n",
              "1.0               336    1"
            ]
          },
          "metadata": {},
          "execution_count": 114
        }
      ]
    },
    {
      "cell_type": "code",
      "metadata": {
        "colab": {
          "base_uri": "https://localhost:8080/",
          "height": 203
        },
        "id": "fdWC1ChiA1EX",
        "outputId": "0e028475-09d5-4714-ccf4-3798725200f2"
      },
      "source": [
        "df5.head()"
      ],
      "execution_count": null,
      "outputs": [
        {
          "output_type": "execute_result",
          "data": {
            "text/html": [
              "<div>\n",
              "<style scoped>\n",
              "    .dataframe tbody tr th:only-of-type {\n",
              "        vertical-align: middle;\n",
              "    }\n",
              "\n",
              "    .dataframe tbody tr th {\n",
              "        vertical-align: top;\n",
              "    }\n",
              "\n",
              "    .dataframe thead th {\n",
              "        text-align: right;\n",
              "    }\n",
              "</style>\n",
              "<table border=\"1\" class=\"dataframe\">\n",
              "  <thead>\n",
              "    <tr style=\"text-align: right;\">\n",
              "      <th></th>\n",
              "      <th>ID</th>\n",
              "      <th>Type</th>\n",
              "      <th>Air temperature [K]</th>\n",
              "      <th>Process temperature [K]</th>\n",
              "      <th>Rotational speed [rpm]</th>\n",
              "      <th>Torque [Nm]</th>\n",
              "      <th>Tool wear [min]</th>\n",
              "      <th>Machine failure</th>\n",
              "      <th>TWF</th>\n",
              "      <th>HDF</th>\n",
              "      <th>PWF</th>\n",
              "      <th>OSF</th>\n",
              "      <th>RNF</th>\n",
              "      <th>Temp Diff</th>\n",
              "      <th>Power</th>\n",
              "    </tr>\n",
              "  </thead>\n",
              "  <tbody>\n",
              "    <tr>\n",
              "      <th>1</th>\n",
              "      <td>2</td>\n",
              "      <td>L</td>\n",
              "      <td>298.2</td>\n",
              "      <td>308.7</td>\n",
              "      <td>1408.0</td>\n",
              "      <td>46.3</td>\n",
              "      <td>3.0</td>\n",
              "      <td>0.0</td>\n",
              "      <td>0.0</td>\n",
              "      <td>0.0</td>\n",
              "      <td>0.0</td>\n",
              "      <td>0.0</td>\n",
              "      <td>0.0</td>\n",
              "      <td>10.5</td>\n",
              "      <td>6.827650</td>\n",
              "    </tr>\n",
              "    <tr>\n",
              "      <th>2</th>\n",
              "      <td>3</td>\n",
              "      <td>L</td>\n",
              "      <td>298.1</td>\n",
              "      <td>308.5</td>\n",
              "      <td>1498.0</td>\n",
              "      <td>49.4</td>\n",
              "      <td>5.0</td>\n",
              "      <td>0.0</td>\n",
              "      <td>0.0</td>\n",
              "      <td>0.0</td>\n",
              "      <td>0.0</td>\n",
              "      <td>0.0</td>\n",
              "      <td>0.0</td>\n",
              "      <td>10.4</td>\n",
              "      <td>7.750440</td>\n",
              "    </tr>\n",
              "    <tr>\n",
              "      <th>3</th>\n",
              "      <td>4</td>\n",
              "      <td>L</td>\n",
              "      <td>298.2</td>\n",
              "      <td>308.6</td>\n",
              "      <td>1433.0</td>\n",
              "      <td>39.5</td>\n",
              "      <td>7.0</td>\n",
              "      <td>0.0</td>\n",
              "      <td>0.0</td>\n",
              "      <td>0.0</td>\n",
              "      <td>0.0</td>\n",
              "      <td>0.0</td>\n",
              "      <td>0.0</td>\n",
              "      <td>10.4</td>\n",
              "      <td>5.928310</td>\n",
              "    </tr>\n",
              "    <tr>\n",
              "      <th>4</th>\n",
              "      <td>5</td>\n",
              "      <td>L</td>\n",
              "      <td>298.2</td>\n",
              "      <td>308.7</td>\n",
              "      <td>1408.0</td>\n",
              "      <td>40.0</td>\n",
              "      <td>9.0</td>\n",
              "      <td>0.0</td>\n",
              "      <td>0.0</td>\n",
              "      <td>0.0</td>\n",
              "      <td>0.0</td>\n",
              "      <td>0.0</td>\n",
              "      <td>0.0</td>\n",
              "      <td>10.5</td>\n",
              "      <td>5.898618</td>\n",
              "    </tr>\n",
              "    <tr>\n",
              "      <th>5</th>\n",
              "      <td>6</td>\n",
              "      <td>M</td>\n",
              "      <td>298.1</td>\n",
              "      <td>308.6</td>\n",
              "      <td>1425.0</td>\n",
              "      <td>41.9</td>\n",
              "      <td>11.0</td>\n",
              "      <td>0.0</td>\n",
              "      <td>0.0</td>\n",
              "      <td>0.0</td>\n",
              "      <td>0.0</td>\n",
              "      <td>0.0</td>\n",
              "      <td>0.0</td>\n",
              "      <td>10.5</td>\n",
              "      <td>6.253404</td>\n",
              "    </tr>\n",
              "  </tbody>\n",
              "</table>\n",
              "</div>"
            ],
            "text/plain": [
              "   ID Type  Air temperature [K]  ...  RNF  Temp Diff     Power\n",
              "1   2    L                298.2  ...  0.0       10.5  6.827650\n",
              "2   3    L                298.1  ...  0.0       10.4  7.750440\n",
              "3   4    L                298.2  ...  0.0       10.4  5.928310\n",
              "4   5    L                298.2  ...  0.0       10.5  5.898618\n",
              "5   6    M                298.1  ...  0.0       10.5  6.253404\n",
              "\n",
              "[5 rows x 15 columns]"
            ]
          },
          "metadata": {},
          "execution_count": 115
        }
      ]
    },
    {
      "cell_type": "code",
      "metadata": {
        "id": "Eo_ifvYIAzo5"
      },
      "source": [
        "from sklearn.model_selection import train_test_split\n",
        "x=df5.drop(['Machine failure','TWF','OSF','RNF','HDF','PWF'], axis=1)\n",
        "y=df5['Machine failure']\n",
        "\n",
        "x= pd.get_dummies(x)\n",
        "x= x.drop(['Type_L'], axis=1)\n",
        "\n",
        "xtrain, xtest, ytrain, ytest = train_test_split(x, y,\n",
        "                                                    stratify=y, \n",
        "                                                    test_size=0.25,\n",
        "                                                    random_state=123)"
      ],
      "execution_count": null,
      "outputs": []
    },
    {
      "cell_type": "code",
      "metadata": {
        "colab": {
          "base_uri": "https://localhost:8080/"
        },
        "id": "8SR2jhouARZr",
        "outputId": "2f4e48d5-da2f-4d6f-f0a3-82a0b289c41f"
      },
      "source": [
        "from sklearn.linear_model import LogisticRegression\n",
        "model = LogisticRegression(solver='saga')\n",
        "model.fit(xtrain,ytrain)\n",
        "model.score(xtrain,ytrain)"
      ],
      "execution_count": null,
      "outputs": [
        {
          "output_type": "execute_result",
          "data": {
            "text/plain": [
              "0.9660766961651918"
            ]
          },
          "metadata": {},
          "execution_count": 117
        }
      ]
    },
    {
      "cell_type": "code",
      "metadata": {
        "colab": {
          "base_uri": "https://localhost:8080/"
        },
        "id": "C0rZ4jujAY0o",
        "outputId": "c4815c0c-d8b6-4dfe-e40b-c0a09d606755"
      },
      "source": [
        "model.score(xtest,ytest)"
      ],
      "execution_count": null,
      "outputs": [
        {
          "output_type": "execute_result",
          "data": {
            "text/plain": [
              "0.9658222758343386"
            ]
          },
          "metadata": {},
          "execution_count": 118
        }
      ]
    },
    {
      "cell_type": "code",
      "metadata": {
        "colab": {
          "base_uri": "https://localhost:8080/"
        },
        "id": "tsiYT4sVAbCQ",
        "outputId": "5b1b8d71-54cb-4ca7-ace2-59e211e710d4"
      },
      "source": [
        "model.predict_proba(xtest)"
      ],
      "execution_count": null,
      "outputs": [
        {
          "output_type": "execute_result",
          "data": {
            "text/plain": [
              "array([[0.95770229, 0.04229771],\n",
              "       [0.97482546, 0.02517454],\n",
              "       [0.96267905, 0.03732095],\n",
              "       ...,\n",
              "       [0.9775694 , 0.0224306 ],\n",
              "       [0.96415653, 0.03584347],\n",
              "       [0.98362551, 0.01637449]])"
            ]
          },
          "metadata": {},
          "execution_count": 119
        }
      ]
    },
    {
      "cell_type": "code",
      "metadata": {
        "colab": {
          "base_uri": "https://localhost:8080/"
        },
        "id": "TAKjFH4TAdKd",
        "outputId": "c3cbe11a-014a-470f-8955-9568c1626bca"
      },
      "source": [
        "from sklearn.metrics import confusion_matrix\n",
        "from sklearn.metrics import classification_report\n",
        "\n",
        "ypred=model.predict(xtest)\n",
        "from sklearn.metrics import confusion_matrix\n",
        "cm= confusion_matrix(ytest,ypred)\n",
        "cm\n",
        "\n",
        "\n",
        "\n",
        "# classification report for precision, recall f1-score and accuracy\n",
        "matrix = classification_report(ytest,ypred,labels=[1,0])\n",
        "print('Classification report : \\n',matrix)"
      ],
      "execution_count": null,
      "outputs": [
        {
          "output_type": "stream",
          "name": "stdout",
          "text": [
            "Classification report : \n",
            "               precision    recall  f1-score   support\n",
            "\n",
            "           1       0.00      0.00      0.00        84\n",
            "           0       0.97      1.00      0.98      2403\n",
            "\n",
            "    accuracy                           0.97      2487\n",
            "   macro avg       0.48      0.50      0.49      2487\n",
            "weighted avg       0.93      0.97      0.95      2487\n",
            "\n"
          ]
        }
      ]
    },
    {
      "cell_type": "code",
      "metadata": {
        "colab": {
          "base_uri": "https://localhost:8080/",
          "height": 459
        },
        "id": "ODr_2xMPAgkW",
        "outputId": "a6daaeb8-4afa-4fd9-e40c-0eb59d610549"
      },
      "source": [
        "# visualizing the confusion matrix using Seaborn library in python\n",
        "import seaborn as sn\n",
        "plt.figure(figsize=(10,7))\n",
        "sn.heatmap(cm, annot=True)\n",
        "plt.xlabel('Predicted')\n",
        "plt.ylabel('Truth') # just look at the confusion matrix not even a single downtime is predicted"
      ],
      "execution_count": null,
      "outputs": [
        {
          "output_type": "execute_result",
          "data": {
            "text/plain": [
              "Text(69.0, 0.5, 'Truth')"
            ]
          },
          "metadata": {},
          "execution_count": 121
        },
        {
          "output_type": "display_data",
          "data": {
            "image/png": "[encoded data removed]",
            "text/plain": [
              "<Figure size 720x504 with 2 Axes>"
            ]
          },
          "metadata": {}
        }
      ]
    },
    {
      "cell_type": "code",
      "metadata": {
        "colab": {
          "base_uri": "https://localhost:8080/"
        },
        "id": "col6RnyVAi7W",
        "outputId": "87447ee3-f591-4bfa-92eb-ac16f6de0d0a"
      },
      "source": [
        "ypred = model.predict_proba(xtest)[::,1]\n",
        "!pip install plot_metric\n",
        "from plot_metric.functions import BinaryClassification\n",
        "# Visualisation with plot_metric\n",
        "bc = BinaryClassification(ytest, ypred, labels=[\"Class 1\", \"Class 2\"])\n",
        "\n",
        "# Figures\n",
        "plt.figure(figsize=(5,5))\n",
        "bc.plot_roc_curve()\n",
        "plt.show()\n",
        "# Although the ROC curve is 81% but look at threshold, its 0,0 so it means this model doesnt work\n"
      ],
      "execution_count": null,
      "outputs": [
        {
          "output_type": "stream",
          "name": "stdout",
          "text": [
            "Requirement already satisfied: plot_metric in /usr/local/lib/python3.7/dist-packages (0.0.6)\n",
            "Requirement already satisfied: scikit-learn>=0.21.2 in /usr/local/lib/python3.7/dist-packages (from plot_metric) (0.22.2.post1)\n",
            "Requirement already satisfied: matplotlib>=3.0.2 in /usr/local/lib/python3.7/dist-packages (from plot_metric) (3.2.2)\n",
            "Requirement already satisfied: seaborn>=0.9.0 in /usr/local/lib/python3.7/dist-packages (from plot_metric) (0.11.1)\n",
            "Requirement already satisfied: scipy>=1.1.0 in /usr/local/lib/python3.7/dist-packages (from plot_metric) (1.4.1)\n",
            "Requirement already satisfied: numpy>=1.15.4 in /usr/local/lib/python3.7/dist-packages (from plot_metric) (1.19.5)\n",
            "Requirement already satisfied: pandas>=0.23.4 in /usr/local/lib/python3.7/dist-packages (from plot_metric) (1.1.5)\n",
            "Requirement already satisfied: colorlover>=0.3.0 in /usr/local/lib/python3.7/dist-packages (from plot_metric) (0.3.0)\n",
            "Requirement already satisfied: cycler>=0.10 in /usr/local/lib/python3.7/dist-packages (from matplotlib>=3.0.2->plot_metric) (0.10.0)\n",
            "Requirement already satisfied: kiwisolver>=1.0.1 in /usr/local/lib/python3.7/dist-packages (from matplotlib>=3.0.2->plot_metric) (1.3.1)\n",
            "Requirement already satisfied: pyparsing!=2.0.4,!=2.1.2,!=2.1.6,>=2.0.1 in /usr/local/lib/python3.7/dist-packages (from matplotlib>=3.0.2->plot_metric) (2.4.7)\n",
            "Requirement already satisfied: python-dateutil>=2.1 in /usr/local/lib/python3.7/dist-packages (from matplotlib>=3.0.2->plot_metric) (2.8.2)\n",
            "Requirement already satisfied: six in /usr/local/lib/python3.7/dist-packages (from cycler>=0.10->matplotlib>=3.0.2->plot_metric) (1.15.0)\n",
            "Requirement already satisfied: pytz>=2017.2 in /usr/local/lib/python3.7/dist-packages (from pandas>=0.23.4->plot_metric) (2018.9)\n",
            "Requirement already satisfied: joblib>=0.11 in /usr/local/lib/python3.7/dist-packages (from scikit-learn>=0.21.2->plot_metric) (1.0.1)\n"
          ]
        },
        {
          "output_type": "display_data",
          "data": {
            "image/png": "[encoded data removed]",
            "text/plain": [
              "<Figure size 360x360 with 1 Axes>"
            ]
          },
          "metadata": {}
        }
      ]
    },
    {
      "cell_type": "markdown",
      "metadata": {
        "id": "n8R0ZVyHQAZ7"
      },
      "source": [
        "\n",
        "# ***Decision Tree with SMOTE***"
      ]
    },
    {
      "cell_type": "code",
      "metadata": {
        "colab": {
          "base_uri": "https://localhost:8080/",
          "height": 203
        },
        "id": "EACpZvUeP-C2",
        "outputId": "62d700c8-b8c3-4991-e87f-025131fe2f44"
      },
      "source": [
        "df7.head()"
      ],
      "execution_count": 39,
      "outputs": [
        {
          "output_type": "execute_result",
          "data": {
            "text/html": [
              "<div>\n",
              "<style scoped>\n",
              "    .dataframe tbody tr th:only-of-type {\n",
              "        vertical-align: middle;\n",
              "    }\n",
              "\n",
              "    .dataframe tbody tr th {\n",
              "        vertical-align: top;\n",
              "    }\n",
              "\n",
              "    .dataframe thead th {\n",
              "        text-align: right;\n",
              "    }\n",
              "</style>\n",
              "<table border=\"1\" class=\"dataframe\">\n",
              "  <thead>\n",
              "    <tr style=\"text-align: right;\">\n",
              "      <th></th>\n",
              "      <th>Type</th>\n",
              "      <th>Tool wear [min]</th>\n",
              "      <th>Temp Diff</th>\n",
              "      <th>Power</th>\n",
              "      <th>Machine failure</th>\n",
              "      <th>TWF</th>\n",
              "      <th>OSF</th>\n",
              "      <th>RNF</th>\n",
              "      <th>HDF</th>\n",
              "      <th>PWF</th>\n",
              "    </tr>\n",
              "  </thead>\n",
              "  <tbody>\n",
              "    <tr>\n",
              "      <th>1</th>\n",
              "      <td>L</td>\n",
              "      <td>3.0</td>\n",
              "      <td>10.5</td>\n",
              "      <td>6.827650</td>\n",
              "      <td>0.0</td>\n",
              "      <td>0.0</td>\n",
              "      <td>0.0</td>\n",
              "      <td>0.0</td>\n",
              "      <td>0.0</td>\n",
              "      <td>0.0</td>\n",
              "    </tr>\n",
              "    <tr>\n",
              "      <th>2</th>\n",
              "      <td>L</td>\n",
              "      <td>5.0</td>\n",
              "      <td>10.4</td>\n",
              "      <td>7.750440</td>\n",
              "      <td>0.0</td>\n",
              "      <td>0.0</td>\n",
              "      <td>0.0</td>\n",
              "      <td>0.0</td>\n",
              "      <td>0.0</td>\n",
              "      <td>0.0</td>\n",
              "    </tr>\n",
              "    <tr>\n",
              "      <th>3</th>\n",
              "      <td>L</td>\n",
              "      <td>7.0</td>\n",
              "      <td>10.4</td>\n",
              "      <td>5.928310</td>\n",
              "      <td>0.0</td>\n",
              "      <td>0.0</td>\n",
              "      <td>0.0</td>\n",
              "      <td>0.0</td>\n",
              "      <td>0.0</td>\n",
              "      <td>0.0</td>\n",
              "    </tr>\n",
              "    <tr>\n",
              "      <th>4</th>\n",
              "      <td>L</td>\n",
              "      <td>9.0</td>\n",
              "      <td>10.5</td>\n",
              "      <td>5.898618</td>\n",
              "      <td>0.0</td>\n",
              "      <td>0.0</td>\n",
              "      <td>0.0</td>\n",
              "      <td>0.0</td>\n",
              "      <td>0.0</td>\n",
              "      <td>0.0</td>\n",
              "    </tr>\n",
              "    <tr>\n",
              "      <th>5</th>\n",
              "      <td>M</td>\n",
              "      <td>11.0</td>\n",
              "      <td>10.5</td>\n",
              "      <td>6.253404</td>\n",
              "      <td>0.0</td>\n",
              "      <td>0.0</td>\n",
              "      <td>0.0</td>\n",
              "      <td>0.0</td>\n",
              "      <td>0.0</td>\n",
              "      <td>0.0</td>\n",
              "    </tr>\n",
              "  </tbody>\n",
              "</table>\n",
              "</div>"
            ],
            "text/plain": [
              "  Type  Tool wear [min]  Temp Diff     Power  ...  OSF  RNF  HDF  PWF\n",
              "1    L              3.0       10.5  6.827650  ...  0.0  0.0  0.0  0.0\n",
              "2    L              5.0       10.4  7.750440  ...  0.0  0.0  0.0  0.0\n",
              "3    L              7.0       10.4  5.928310  ...  0.0  0.0  0.0  0.0\n",
              "4    L              9.0       10.5  5.898618  ...  0.0  0.0  0.0  0.0\n",
              "5    M             11.0       10.5  6.253404  ...  0.0  0.0  0.0  0.0\n",
              "\n",
              "[5 rows x 10 columns]"
            ]
          },
          "metadata": {},
          "execution_count": 39
        }
      ]
    },
    {
      "cell_type": "code",
      "metadata": {
        "colab": {
          "base_uri": "https://localhost:8080/"
        },
        "id": "vhdAAV0eQYvI",
        "outputId": "fffcddb4-da64-4499-d232-e033f29c30e5"
      },
      "source": [
        "df7.shape"
      ],
      "execution_count": 40,
      "outputs": [
        {
          "output_type": "execute_result",
          "data": {
            "text/plain": [
              "(9945, 10)"
            ]
          },
          "metadata": {},
          "execution_count": 40
        }
      ]
    },
    {
      "cell_type": "code",
      "metadata": {
        "colab": {
          "base_uri": "https://localhost:8080/"
        },
        "id": "KEey3P3HQaFM",
        "outputId": "e335cdd9-4111-4dfd-fee4-6e87c415d1d8"
      },
      "source": [
        "!pip install imbalanced-learn\n",
        "# check version number\n",
        "import imblearn\n",
        "print(imblearn.__version__)"
      ],
      "execution_count": 41,
      "outputs": [
        {
          "output_type": "stream",
          "name": "stdout",
          "text": [
            "Requirement already satisfied: imbalanced-learn in /usr/local/lib/python3.7/dist-packages (0.4.3)\n",
            "Requirement already satisfied: numpy>=1.8.2 in /usr/local/lib/python3.7/dist-packages (from imbalanced-learn) (1.19.5)\n",
            "Requirement already satisfied: scipy>=0.13.3 in /usr/local/lib/python3.7/dist-packages (from imbalanced-learn) (1.4.1)\n",
            "Requirement already satisfied: scikit-learn>=0.20 in /usr/local/lib/python3.7/dist-packages (from imbalanced-learn) (0.22.2.post1)\n",
            "Requirement already satisfied: joblib>=0.11 in /usr/local/lib/python3.7/dist-packages (from scikit-learn>=0.20->imbalanced-learn) (1.0.1)\n",
            "0.4.3\n"
          ]
        }
      ]
    },
    {
      "cell_type": "code",
      "metadata": {
        "id": "uKeX5Ne2RU1b"
      },
      "source": [
        "from sklearn.model_selection import train_test_split\n",
        "x=df7.drop(['Machine failure','TWF','OSF','RNF','HDF','PWF'], axis=1)\n",
        "y=df7['Machine failure']\n",
        "\n",
        "x= pd.get_dummies(x)\n",
        "x= x.drop(['Type_L'], axis=1)\n"
      ],
      "execution_count": 42,
      "outputs": []
    },
    {
      "cell_type": "code",
      "metadata": {
        "colab": {
          "base_uri": "https://localhost:8080/"
        },
        "id": "c1bAYb9pRaqo",
        "outputId": "2cacae21-a140-4495-cb0b-e29acd9237d8"
      },
      "source": [
        "from collections import Counter\n",
        "counter = Counter(y)\n",
        "print(counter)\n"
      ],
      "execution_count": 43,
      "outputs": [
        {
          "output_type": "stream",
          "name": "stdout",
          "text": [
            "Counter({0.0: 9608, 1.0: 337})\n"
          ]
        }
      ]
    },
    {
      "cell_type": "code",
      "metadata": {
        "id": "iRN0CjnhSpdD"
      },
      "source": [
        "from collections import Counter\n",
        "from imblearn.over_sampling import SMOTE\n",
        "from imblearn.under_sampling import RandomUnderSampler\n",
        "from imblearn.pipeline import Pipeline\n",
        "from matplotlib import pyplot\n",
        "from numpy import where\n",
        "over = SMOTE(sampling_strategy=0.1)\n",
        "under = RandomUnderSampler(sampling_strategy=0.5)"
      ],
      "execution_count": 44,
      "outputs": []
    },
    {
      "cell_type": "code",
      "metadata": {
        "id": "jNzpBMfeSrlx"
      },
      "source": [
        "steps = [('o', over), ('u', under)]\n",
        "pipeline = Pipeline(steps=steps)"
      ],
      "execution_count": 45,
      "outputs": []
    },
    {
      "cell_type": "code",
      "metadata": {
        "id": "oED91qoOStaW"
      },
      "source": [
        "# transform the dataset\n",
        "from sklearn.model_selection import train_test_split\n",
        "x=df7.drop(['Machine failure','TWF','OSF','RNF','HDF','PWF'], axis=1)\n",
        "y=df7['Machine failure']\n",
        "\n",
        "x= pd.get_dummies(x)\n",
        "x= x.drop(['Type_L'], axis=1)\n",
        "x, y = pipeline.fit_resample(x, y)\n",
        "xtrain, xtest, ytrain, ytest = train_test_split(x, y,\n",
        "                                                    stratify=y, \n",
        "                                                    test_size=0.25,\n",
        "                                                    random_state=123)"
      ],
      "execution_count": 46,
      "outputs": []
    },
    {
      "cell_type": "code",
      "metadata": {
        "colab": {
          "base_uri": "https://localhost:8080/"
        },
        "id": "AFTSPxjyTEfU",
        "outputId": "06d02e6d-cd29-4d13-c224-891bd370b700"
      },
      "source": [
        "counter = Counter(y)\n",
        "print(counter)"
      ],
      "execution_count": 47,
      "outputs": [
        {
          "output_type": "stream",
          "name": "stdout",
          "text": [
            "Counter({0.0: 1920, 1.0: 960})\n"
          ]
        }
      ]
    },
    {
      "cell_type": "code",
      "metadata": {
        "id": "6jop6EtyTOss"
      },
      "source": [
        "from numpy import mean\n",
        "from sklearn.model_selection import cross_val_score\n",
        "from sklearn.model_selection import RepeatedStratifiedKFold\n",
        "from sklearn.tree import DecisionTreeClassifier"
      ],
      "execution_count": 48,
      "outputs": []
    },
    {
      "cell_type": "code",
      "metadata": {
        "colab": {
          "base_uri": "https://localhost:8080/"
        },
        "id": "8EjuAkeiTRlf",
        "outputId": "9268e469-5a3a-41e0-d5b6-04ba5744b200"
      },
      "source": [
        "# define model\n",
        "model = DecisionTreeClassifier()\n",
        "# evaluate pipeline\n",
        "cv = RepeatedStratifiedKFold(n_splits=10, n_repeats=3, random_state=1)\n",
        "scores = cross_val_score(model, x, y, scoring='precision', cv=cv, n_jobs=-1)\n",
        "print('Mean Precision: %.3f' % mean(scores))"
      ],
      "execution_count": 49,
      "outputs": [
        {
          "output_type": "stream",
          "name": "stdout",
          "text": [
            "Mean Precision: 0.825\n"
          ]
        }
      ]
    },
    {
      "cell_type": "code",
      "metadata": {
        "colab": {
          "base_uri": "https://localhost:8080/"
        },
        "id": "WXeMXsfATv7j",
        "outputId": "71f477a0-84b4-4f9d-a622-84da19e14516"
      },
      "source": [
        "model.fit(xtrain,ytrain)\n",
        "model.score(xtest,ytest)"
      ],
      "execution_count": 50,
      "outputs": [
        {
          "output_type": "execute_result",
          "data": {
            "text/plain": [
              "0.8597222222222223"
            ]
          },
          "metadata": {},
          "execution_count": 50
        }
      ]
    },
    {
      "cell_type": "code",
      "metadata": {
        "colab": {
          "base_uri": "https://localhost:8080/"
        },
        "id": "PjqbyBfJT3vi",
        "outputId": "b9ec4299-a366-4947-ad25-3c3a7da24ef9"
      },
      "source": [
        "from sklearn.metrics import confusion_matrix\n",
        "from sklearn.metrics import classification_report\n",
        "\n",
        "ypred=model.predict(xtest)\n",
        "from sklearn.metrics import confusion_matrix\n",
        "cm= confusion_matrix(ytest,ypred)\n",
        "cm\n",
        "\n",
        "# classification report for precision, recall f1-score and accuracy\n",
        "matrix = classification_report(ytest,ypred,labels=[1,0])\n",
        "print('Classification report : \\n',matrix)"
      ],
      "execution_count": 51,
      "outputs": [
        {
          "output_type": "stream",
          "name": "stdout",
          "text": [
            "Classification report : \n",
            "               precision    recall  f1-score   support\n",
            "\n",
            "           1       0.79      0.78      0.79       240\n",
            "           0       0.89      0.90      0.90       480\n",
            "\n",
            "    accuracy                           0.86       720\n",
            "   macro avg       0.84      0.84      0.84       720\n",
            "weighted avg       0.86      0.86      0.86       720\n",
            "\n"
          ]
        }
      ]
    },
    {
      "cell_type": "code",
      "metadata": {
        "colab": {
          "base_uri": "https://localhost:8080/",
          "height": 459
        },
        "id": "g4Mf5z2vUGX_",
        "outputId": "7baa9de2-eee4-49e8-c2a8-e57e382daa73"
      },
      "source": [
        "# visualizing the confusion matrix using Seaborn library in python\n",
        "import seaborn as sn\n",
        "plt.figure(figsize=(10,7))\n",
        "sn.heatmap(cm, annot=True)\n",
        "plt.xlabel('Predicted')\n",
        "plt.ylabel('Truth') # just look at the confusion matrix not even a single downtime is predicted"
      ],
      "execution_count": 52,
      "outputs": [
        {
          "output_type": "execute_result",
          "data": {
            "text/plain": [
              "Text(69.0, 0.5, 'Truth')"
            ]
          },
          "metadata": {},
          "execution_count": 52
        },
        {
          "output_type": "display_data",
          "data": {
            "image/png": "[encoded data removed]",
            "text/plain": [
              "<Figure size 720x504 with 2 Axes>"
            ]
          },
          "metadata": {
            "needs_background": "light"
          }
        }
      ]
    },
    {
      "cell_type": "code",
      "metadata": {
        "colab": {
          "base_uri": "https://localhost:8080/"
        },
        "id": "j6uAhk2XWIlh",
        "outputId": "b2346d40-c9e3-43ca-e890-62d347cc5d89"
      },
      "source": [
        "cm"
      ],
      "execution_count": 53,
      "outputs": [
        {
          "output_type": "execute_result",
          "data": {
            "text/plain": [
              "array([[431,  49],\n",
              "       [ 52, 188]])"
            ]
          },
          "metadata": {},
          "execution_count": 53
        }
      ]
    },
    {
      "cell_type": "code",
      "metadata": {
        "colab": {
          "base_uri": "https://localhost:8080/"
        },
        "id": "qVTeq0rYa5lM",
        "outputId": "4a78cd66-8fa4-43c2-9360-c24448926748"
      },
      "source": [
        "# On overall Dataset\n",
        "from sklearn.metrics import confusion_matrix\n",
        "from sklearn.metrics import classification_report\n",
        "\n",
        "ypred=model.predict(x)\n",
        "from sklearn.metrics import confusion_matrix\n",
        "cm= confusion_matrix(y,ypred)\n",
        "cm"
      ],
      "execution_count": 54,
      "outputs": [
        {
          "output_type": "execute_result",
          "data": {
            "text/plain": [
              "array([[1871,   49],\n",
              "       [  52,  908]])"
            ]
          },
          "metadata": {},
          "execution_count": 54
        }
      ]
    },
    {
      "cell_type": "code",
      "metadata": {
        "colab": {
          "base_uri": "https://localhost:8080/",
          "height": 653
        },
        "id": "bVeczhi0XUPz",
        "outputId": "d34a6275-06c8-4d58-83e5-64cee846c33a"
      },
      "source": [
        "ypred = model.predict_proba(xtest)[::,1]\n",
        "!pip install plot_metric\n",
        "from plot_metric.functions import BinaryClassification\n",
        "# Visualisation with plot_metric\n",
        "bc = BinaryClassification(ytest, ypred, labels=[\"Class 1\", \"Class 2\"])\n",
        "\n",
        "# Figures\n",
        "plt.figure(figsize=(5,5))\n",
        "bc.plot_roc_curve()\n",
        "plt.show()\n",
        "\n",
        "# Now the ROC value is also improved\n"
      ],
      "execution_count": 56,
      "outputs": [
        {
          "output_type": "stream",
          "name": "stdout",
          "text": [
            "Collecting plot_metric\n",
            "  Downloading plot_metric-0.0.6-py3-none-any.whl (13 kB)\n",
            "Requirement already satisfied: scikit-learn>=0.21.2 in /usr/local/lib/python3.7/dist-packages (from plot_metric) (0.22.2.post1)\n",
            "Requirement already satisfied: matplotlib>=3.0.2 in /usr/local/lib/python3.7/dist-packages (from plot_metric) (3.2.2)\n",
            "Requirement already satisfied: scipy>=1.1.0 in /usr/local/lib/python3.7/dist-packages (from plot_metric) (1.4.1)\n",
            "Requirement already satisfied: numpy>=1.15.4 in /usr/local/lib/python3.7/dist-packages (from plot_metric) (1.19.5)\n",
            "Requirement already satisfied: seaborn>=0.9.0 in /usr/local/lib/python3.7/dist-packages (from plot_metric) (0.11.1)\n",
            "Requirement already satisfied: colorlover>=0.3.0 in /usr/local/lib/python3.7/dist-packages (from plot_metric) (0.3.0)\n",
            "Requirement already satisfied: pandas>=0.23.4 in /usr/local/lib/python3.7/dist-packages (from plot_metric) (1.1.5)\n",
            "Requirement already satisfied: cycler>=0.10 in /usr/local/lib/python3.7/dist-packages (from matplotlib>=3.0.2->plot_metric) (0.10.0)\n",
            "Requirement already satisfied: kiwisolver>=1.0.1 in /usr/local/lib/python3.7/dist-packages (from matplotlib>=3.0.2->plot_metric) (1.3.1)\n",
            "Requirement already satisfied: pyparsing!=2.0.4,!=2.1.2,!=2.1.6,>=2.0.1 in /usr/local/lib/python3.7/dist-packages (from matplotlib>=3.0.2->plot_metric) (2.4.7)\n",
            "Requirement already satisfied: python-dateutil>=2.1 in /usr/local/lib/python3.7/dist-packages (from matplotlib>=3.0.2->plot_metric) (2.8.2)\n",
            "Requirement already satisfied: six in /usr/local/lib/python3.7/dist-packages (from cycler>=0.10->matplotlib>=3.0.2->plot_metric) (1.15.0)\n",
            "Requirement already satisfied: pytz>=2017.2 in /usr/local/lib/python3.7/dist-packages (from pandas>=0.23.4->plot_metric) (2018.9)\n",
            "Requirement already satisfied: joblib>=0.11 in /usr/local/lib/python3.7/dist-packages (from scikit-learn>=0.21.2->plot_metric) (1.0.1)\n",
            "Installing collected packages: plot-metric\n",
            "Successfully installed plot-metric-0.0.6\n"
          ]
        },
        {
          "output_type": "display_data",
          "data": {
            "image/png": "[encoded data removed]",
            "text/plain": [
              "<Figure size 360x360 with 1 Axes>"
            ]
          },
          "metadata": {}
        }
      ]
    },
    {
      "cell_type": "markdown",
      "metadata": {
        "id": "VVXC25JLiT4K"
      },
      "source": [
        "# ***XGBooost***"
      ]
    },
    {
      "cell_type": "code",
      "metadata": {
        "id": "4rXGaXMtiiYr",
        "colab": {
          "base_uri": "https://localhost:8080/"
        },
        "outputId": "22c5578c-6b85-4985-b05f-5f6b131e9cb9"
      },
      "source": [
        "from xgboost import XGBClassifier\n",
        "from sklearn.model_selection import train_test_split\n",
        "from sklearn.metrics import accuracy_score\n",
        "\n",
        "# fit model no training data\n",
        "model = XGBClassifier()\n",
        "model.fit(xtrain, ytrain)\n",
        "# evaluate pipeline\n",
        "cv = RepeatedStratifiedKFold(n_splits=10, n_repeats=3, random_state=1)\n",
        "scores = cross_val_score(model, x, y, scoring='precision', cv=cv, n_jobs=-1)\n",
        "print('Mean Precision: %.3f' % mean(scores))"
      ],
      "execution_count": 57,
      "outputs": [
        {
          "output_type": "stream",
          "name": "stdout",
          "text": [
            "Mean Precision: 0.868\n"
          ]
        }
      ]
    },
    {
      "cell_type": "code",
      "metadata": {
        "colab": {
          "base_uri": "https://localhost:8080/"
        },
        "id": "Jwz8UIzYHNMp",
        "outputId": "d4bb90e6-9ada-40e3-907d-7f6507433cc2"
      },
      "source": [
        "model.fit(xtrain,ytrain)\n",
        "model.score(xtest,ytest)"
      ],
      "execution_count": 58,
      "outputs": [
        {
          "output_type": "execute_result",
          "data": {
            "text/plain": [
              "0.8888888888888888"
            ]
          },
          "metadata": {},
          "execution_count": 58
        }
      ]
    },
    {
      "cell_type": "code",
      "metadata": {
        "colab": {
          "base_uri": "https://localhost:8080/"
        },
        "id": "POM9Ajc4HezI",
        "outputId": "473eabcf-be0b-47d6-f9eb-450d4e582392"
      },
      "source": [
        "from sklearn.metrics import confusion_matrix\n",
        "from sklearn.metrics import classification_report\n",
        "\n",
        "ypred=model.predict(xtest)\n",
        "from sklearn.metrics import confusion_matrix\n",
        "cm= confusion_matrix(ytest,ypred)\n",
        "cm\n",
        "\n",
        "# classification report for precision, recall f1-score and accuracy\n",
        "matrix = classification_report(ytest,ypred,labels=[1,0])\n",
        "print('Classification report : \\n',matrix)"
      ],
      "execution_count": 61,
      "outputs": [
        {
          "output_type": "stream",
          "name": "stdout",
          "text": [
            "Classification report : \n",
            "               precision    recall  f1-score   support\n",
            "\n",
            "           1       0.85      0.81      0.83       240\n",
            "           0       0.91      0.93      0.92       480\n",
            "\n",
            "    accuracy                           0.89       720\n",
            "   macro avg       0.88      0.87      0.87       720\n",
            "weighted avg       0.89      0.89      0.89       720\n",
            "\n"
          ]
        }
      ]
    },
    {
      "cell_type": "code",
      "metadata": {
        "colab": {
          "base_uri": "https://localhost:8080/",
          "height": 459
        },
        "id": "_8otAMBNHUIw",
        "outputId": "ba560899-2fdd-4323-f531-17d18d11ca12"
      },
      "source": [
        "# visualizing the confusion matrix using Seaborn library in python\n",
        "import seaborn as sn\n",
        "plt.figure(figsize=(10,7))\n",
        "sn.heatmap(cm, annot=True)\n",
        "plt.xlabel('Predicted')\n",
        "plt.ylabel('Truth') # just look at the confusion matrix not even a single downtime is predicted"
      ],
      "execution_count": 62,
      "outputs": [
        {
          "output_type": "execute_result",
          "data": {
            "text/plain": [
              "Text(69.0, 0.5, 'Truth')"
            ]
          },
          "metadata": {},
          "execution_count": 62
        },
        {
          "output_type": "display_data",
          "data": {
            "image/png": "[encoded data removed]",
            "text/plain": [
              "<Figure size 720x504 with 2 Axes>"
            ]
          },
          "metadata": {}
        }
      ]
    },
    {
      "cell_type": "code",
      "metadata": {
        "colab": {
          "base_uri": "https://localhost:8080/"
        },
        "id": "jnr-PPmNHWOw",
        "outputId": "263ef626-2963-4742-c3d4-cfd14bc172b4"
      },
      "source": [
        "cm"
      ],
      "execution_count": 63,
      "outputs": [
        {
          "output_type": "execute_result",
          "data": {
            "text/plain": [
              "array([[446,  34],\n",
              "       [ 46, 194]])"
            ]
          },
          "metadata": {},
          "execution_count": 63
        }
      ]
    },
    {
      "cell_type": "code",
      "metadata": {
        "colab": {
          "base_uri": "https://localhost:8080/",
          "height": 602
        },
        "id": "vgxFJQYAHkKG",
        "outputId": "d816ee58-a317-480a-fa3b-58beec23855f"
      },
      "source": [
        "ypred = model.predict_proba(xtest)[::,1]\n",
        "!pip install plot_metric\n",
        "from plot_metric.functions import BinaryClassification\n",
        "# Visualisation with plot_metric\n",
        "bc = BinaryClassification(ytest, ypred, labels=[\"Class 1\", \"Class 2\"])\n",
        "\n",
        "# Figures\n",
        "plt.figure(figsize=(5,5))\n",
        "bc.plot_roc_curve()\n",
        "plt.show()\n",
        "\n",
        "# Now the ROC value is also improved\n"
      ],
      "execution_count": 64,
      "outputs": [
        {
          "output_type": "stream",
          "name": "stdout",
          "text": [
            "Requirement already satisfied: plot_metric in /usr/local/lib/python3.7/dist-packages (0.0.6)\n",
            "Requirement already satisfied: scipy>=1.1.0 in /usr/local/lib/python3.7/dist-packages (from plot_metric) (1.4.1)\n",
            "Requirement already satisfied: matplotlib>=3.0.2 in /usr/local/lib/python3.7/dist-packages (from plot_metric) (3.2.2)\n",
            "Requirement already satisfied: numpy>=1.15.4 in /usr/local/lib/python3.7/dist-packages (from plot_metric) (1.19.5)\n",
            "Requirement already satisfied: scikit-learn>=0.21.2 in /usr/local/lib/python3.7/dist-packages (from plot_metric) (0.22.2.post1)\n",
            "Requirement already satisfied: seaborn>=0.9.0 in /usr/local/lib/python3.7/dist-packages (from plot_metric) (0.11.1)\n",
            "Requirement already satisfied: pandas>=0.23.4 in /usr/local/lib/python3.7/dist-packages (from plot_metric) (1.1.5)\n",
            "Requirement already satisfied: colorlover>=0.3.0 in /usr/local/lib/python3.7/dist-packages (from plot_metric) (0.3.0)\n",
            "Requirement already satisfied: pyparsing!=2.0.4,!=2.1.2,!=2.1.6,>=2.0.1 in /usr/local/lib/python3.7/dist-packages (from matplotlib>=3.0.2->plot_metric) (2.4.7)\n",
            "Requirement already satisfied: python-dateutil>=2.1 in /usr/local/lib/python3.7/dist-packages (from matplotlib>=3.0.2->plot_metric) (2.8.2)\n",
            "Requirement already satisfied: cycler>=0.10 in /usr/local/lib/python3.7/dist-packages (from matplotlib>=3.0.2->plot_metric) (0.10.0)\n",
            "Requirement already satisfied: kiwisolver>=1.0.1 in /usr/local/lib/python3.7/dist-packages (from matplotlib>=3.0.2->plot_metric) (1.3.1)\n",
            "Requirement already satisfied: six in /usr/local/lib/python3.7/dist-packages (from cycler>=0.10->matplotlib>=3.0.2->plot_metric) (1.15.0)\n",
            "Requirement already satisfied: pytz>=2017.2 in /usr/local/lib/python3.7/dist-packages (from pandas>=0.23.4->plot_metric) (2018.9)\n",
            "Requirement already satisfied: joblib>=0.11 in /usr/local/lib/python3.7/dist-packages (from scikit-learn>=0.21.2->plot_metric) (1.0.1)\n"
          ]
        },
        {
          "output_type": "display_data",
          "data": {
            "image/png": "[encoded data removed]",
            "text/plain": [
              "<Figure size 360x360 with 1 Axes>"
            ]
          },
          "metadata": {}
        }
      ]
    },
    {
      "cell_type": "markdown",
      "metadata": {
        "id": "t_X9e4V-O2K9"
      },
      "source": [
        "# ***Identifying the Optimal Threshold Levels***"
      ]
    },
    {
      "cell_type": "code",
      "metadata": {
        "colab": {
          "base_uri": "https://localhost:8080/"
        },
        "id": "yodiduzOO09E",
        "outputId": "f9624577-8cce-4061-aca2-da3db176de0d"
      },
      "source": [
        "df8= df5.copy()\n",
        "df8.shape"
      ],
      "execution_count": 69,
      "outputs": [
        {
          "output_type": "execute_result",
          "data": {
            "text/plain": [
              "(9945, 10)"
            ]
          },
          "metadata": {},
          "execution_count": 69
        }
      ]
    },
    {
      "cell_type": "code",
      "metadata": {
        "id": "LVGQI91vPCEL"
      },
      "source": [
        ""
      ],
      "execution_count": null,
      "outputs": []
    },
    {
      "cell_type": "markdown",
      "metadata": {
        "id": "R6Q7mVO1O9aj"
      },
      "source": [
        "# ***Root Cause Identification***"
      ]
    },
    {
      "cell_type": "code",
      "metadata": {
        "id": "i-pLf3fKPDDL"
      },
      "source": [
        "df9= df5.copy()"
      ],
      "execution_count": 108,
      "outputs": []
    },
    {
      "cell_type": "code",
      "metadata": {
        "colab": {
          "base_uri": "https://localhost:8080/"
        },
        "id": "AMBPjywUP1o_",
        "outputId": "a140fc34-45de-4fbf-d2c4-c8f5f51ed4ab"
      },
      "source": [
        "df9= df9[df9['Machine failure']==1] # removing RNF as its not important\n",
        "df9.shape"
      ],
      "execution_count": 109,
      "outputs": [
        {
          "output_type": "execute_result",
          "data": {
            "text/plain": [
              "(337, 10)"
            ]
          },
          "metadata": {},
          "execution_count": 109
        }
      ]
    },
    {
      "cell_type": "code",
      "metadata": {
        "colab": {
          "base_uri": "https://localhost:8080/",
          "height": 203
        },
        "id": "3-Do8h3UPCwL",
        "outputId": "057c640b-f25e-49d3-a84b-91b9fbb61167"
      },
      "source": [
        "df9.head()"
      ],
      "execution_count": 102,
      "outputs": [
        {
          "output_type": "execute_result",
          "data": {
            "text/html": [
              "<div>\n",
              "<style scoped>\n",
              "    .dataframe tbody tr th:only-of-type {\n",
              "        vertical-align: middle;\n",
              "    }\n",
              "\n",
              "    .dataframe tbody tr th {\n",
              "        vertical-align: top;\n",
              "    }\n",
              "\n",
              "    .dataframe thead th {\n",
              "        text-align: right;\n",
              "    }\n",
              "</style>\n",
              "<table border=\"1\" class=\"dataframe\">\n",
              "  <thead>\n",
              "    <tr style=\"text-align: right;\">\n",
              "      <th></th>\n",
              "      <th>Type</th>\n",
              "      <th>Tool wear [min]</th>\n",
              "      <th>Temp Diff</th>\n",
              "      <th>Power</th>\n",
              "      <th>Machine failure</th>\n",
              "      <th>TWF</th>\n",
              "      <th>OSF</th>\n",
              "      <th>RNF</th>\n",
              "      <th>HDF</th>\n",
              "      <th>PWF</th>\n",
              "    </tr>\n",
              "  </thead>\n",
              "  <tbody>\n",
              "    <tr>\n",
              "      <th>50</th>\n",
              "      <td>L</td>\n",
              "      <td>143.0</td>\n",
              "      <td>10.2</td>\n",
              "      <td>3.836325</td>\n",
              "      <td>1.0</td>\n",
              "      <td>0.0</td>\n",
              "      <td>0.0</td>\n",
              "      <td>0.0</td>\n",
              "      <td>0.0</td>\n",
              "      <td>1.0</td>\n",
              "    </tr>\n",
              "    <tr>\n",
              "      <th>69</th>\n",
              "      <td>L</td>\n",
              "      <td>191.0</td>\n",
              "      <td>10.1</td>\n",
              "      <td>8.824600</td>\n",
              "      <td>1.0</td>\n",
              "      <td>0.0</td>\n",
              "      <td>1.0</td>\n",
              "      <td>0.0</td>\n",
              "      <td>0.0</td>\n",
              "      <td>1.0</td>\n",
              "    </tr>\n",
              "    <tr>\n",
              "      <th>77</th>\n",
              "      <td>L</td>\n",
              "      <td>208.0</td>\n",
              "      <td>10.1</td>\n",
              "      <td>6.293622</td>\n",
              "      <td>1.0</td>\n",
              "      <td>1.0</td>\n",
              "      <td>0.0</td>\n",
              "      <td>0.0</td>\n",
              "      <td>0.0</td>\n",
              "      <td>0.0</td>\n",
              "    </tr>\n",
              "    <tr>\n",
              "      <th>160</th>\n",
              "      <td>L</td>\n",
              "      <td>216.0</td>\n",
              "      <td>9.8</td>\n",
              "      <td>8.150126</td>\n",
              "      <td>1.0</td>\n",
              "      <td>0.0</td>\n",
              "      <td>1.0</td>\n",
              "      <td>0.0</td>\n",
              "      <td>0.0</td>\n",
              "      <td>0.0</td>\n",
              "    </tr>\n",
              "    <tr>\n",
              "      <th>161</th>\n",
              "      <td>L</td>\n",
              "      <td>218.0</td>\n",
              "      <td>9.8</td>\n",
              "      <td>7.734353</td>\n",
              "      <td>1.0</td>\n",
              "      <td>0.0</td>\n",
              "      <td>1.0</td>\n",
              "      <td>0.0</td>\n",
              "      <td>0.0</td>\n",
              "      <td>0.0</td>\n",
              "    </tr>\n",
              "  </tbody>\n",
              "</table>\n",
              "</div>"
            ],
            "text/plain": [
              "    Type  Tool wear [min]  Temp Diff     Power  ...  OSF  RNF  HDF  PWF\n",
              "50     L            143.0       10.2  3.836325  ...  0.0  0.0  0.0  1.0\n",
              "69     L            191.0       10.1  8.824600  ...  1.0  0.0  0.0  1.0\n",
              "77     L            208.0       10.1  6.293622  ...  0.0  0.0  0.0  0.0\n",
              "160    L            216.0        9.8  8.150126  ...  1.0  0.0  0.0  0.0\n",
              "161    L            218.0        9.8  7.734353  ...  1.0  0.0  0.0  0.0\n",
              "\n",
              "[5 rows x 10 columns]"
            ]
          },
          "metadata": {},
          "execution_count": 102
        }
      ]
    },
    {
      "cell_type": "code",
      "metadata": {
        "id": "ia1xJpo_QDWu"
      },
      "source": [
        "df9= df9.drop(['Machine failure','RNF'], axis=1)"
      ],
      "execution_count": 110,
      "outputs": []
    },
    {
      "cell_type": "code",
      "metadata": {
        "id": "s-omYxdvUeWH"
      },
      "source": [
        "df9.TWF.replace([1,0], ['TWF', ''], inplace=True)\n",
        "df9.OSF.replace([1,0], ['OSF', ''], inplace=True)\n",
        "df9.HDF.replace([1,0], ['HDF', ''], inplace=True)\n",
        "df9.PWF.replace([1,0], ['PWF', ''], inplace=True)\n"
      ],
      "execution_count": 111,
      "outputs": []
    },
    {
      "cell_type": "code",
      "metadata": {
        "id": "C_Q5T8ygV44p"
      },
      "source": [
        "df9['RootCause'] = df9.TWF + df9.OSF + df9.HDF + df9.PWF"
      ],
      "execution_count": 114,
      "outputs": []
    },
    {
      "cell_type": "code",
      "metadata": {
        "colab": {
          "base_uri": "https://localhost:8080/",
          "height": 203
        },
        "id": "ypBP47MFYUB8",
        "outputId": "bc1bacdd-71ea-4227-893b-7dab5854e8b7"
      },
      "source": [
        "df9.head()"
      ],
      "execution_count": 129,
      "outputs": [
        {
          "output_type": "execute_result",
          "data": {
            "text/html": [
              "<div>\n",
              "<style scoped>\n",
              "    .dataframe tbody tr th:only-of-type {\n",
              "        vertical-align: middle;\n",
              "    }\n",
              "\n",
              "    .dataframe tbody tr th {\n",
              "        vertical-align: top;\n",
              "    }\n",
              "\n",
              "    .dataframe thead th {\n",
              "        text-align: right;\n",
              "    }\n",
              "</style>\n",
              "<table border=\"1\" class=\"dataframe\">\n",
              "  <thead>\n",
              "    <tr style=\"text-align: right;\">\n",
              "      <th></th>\n",
              "      <th>Type</th>\n",
              "      <th>Tool wear [min]</th>\n",
              "      <th>Temp Diff</th>\n",
              "      <th>Power</th>\n",
              "      <th>RootCause</th>\n",
              "    </tr>\n",
              "  </thead>\n",
              "  <tbody>\n",
              "    <tr>\n",
              "      <th>50</th>\n",
              "      <td>L</td>\n",
              "      <td>143.0</td>\n",
              "      <td>10.2</td>\n",
              "      <td>3.836325</td>\n",
              "      <td>PWF</td>\n",
              "    </tr>\n",
              "    <tr>\n",
              "      <th>77</th>\n",
              "      <td>L</td>\n",
              "      <td>208.0</td>\n",
              "      <td>10.1</td>\n",
              "      <td>6.293622</td>\n",
              "      <td>TWF</td>\n",
              "    </tr>\n",
              "    <tr>\n",
              "      <th>160</th>\n",
              "      <td>L</td>\n",
              "      <td>216.0</td>\n",
              "      <td>9.8</td>\n",
              "      <td>8.150126</td>\n",
              "      <td>OSF</td>\n",
              "    </tr>\n",
              "    <tr>\n",
              "      <th>161</th>\n",
              "      <td>L</td>\n",
              "      <td>218.0</td>\n",
              "      <td>9.8</td>\n",
              "      <td>7.734353</td>\n",
              "      <td>OSF</td>\n",
              "    </tr>\n",
              "    <tr>\n",
              "      <th>168</th>\n",
              "      <td>L</td>\n",
              "      <td>20.0</td>\n",
              "      <td>9.9</td>\n",
              "      <td>8.824600</td>\n",
              "      <td>PWF</td>\n",
              "    </tr>\n",
              "  </tbody>\n",
              "</table>\n",
              "</div>"
            ],
            "text/plain": [
              "    Type  Tool wear [min]  Temp Diff     Power RootCause\n",
              "50     L            143.0       10.2  3.836325       PWF\n",
              "77     L            208.0       10.1  6.293622       TWF\n",
              "160    L            216.0        9.8  8.150126       OSF\n",
              "161    L            218.0        9.8  7.734353       OSF\n",
              "168    L             20.0        9.9  8.824600       PWF"
            ]
          },
          "metadata": {},
          "execution_count": 129
        }
      ]
    },
    {
      "cell_type": "code",
      "metadata": {
        "colab": {
          "base_uri": "https://localhost:8080/",
          "height": 234
        },
        "id": "UiJHt5zdYsie",
        "outputId": "0d582336-1f7e-4668-83bb-7bb532f9b41c"
      },
      "source": [
        "df9.groupby('RootCause').agg(['count'])"
      ],
      "execution_count": 127,
      "outputs": [
        {
          "output_type": "execute_result",
          "data": {
            "text/html": [
              "<div>\n",
              "<style scoped>\n",
              "    .dataframe tbody tr th:only-of-type {\n",
              "        vertical-align: middle;\n",
              "    }\n",
              "\n",
              "    .dataframe tbody tr th {\n",
              "        vertical-align: top;\n",
              "    }\n",
              "\n",
              "    .dataframe thead tr th {\n",
              "        text-align: left;\n",
              "    }\n",
              "\n",
              "    .dataframe thead tr:last-of-type th {\n",
              "        text-align: right;\n",
              "    }\n",
              "</style>\n",
              "<table border=\"1\" class=\"dataframe\">\n",
              "  <thead>\n",
              "    <tr>\n",
              "      <th></th>\n",
              "      <th>Type</th>\n",
              "      <th>Tool wear [min]</th>\n",
              "      <th>Temp Diff</th>\n",
              "      <th>Power</th>\n",
              "      <th>TWF</th>\n",
              "      <th>OSF</th>\n",
              "      <th>HDF</th>\n",
              "      <th>PWF</th>\n",
              "      <th>Length</th>\n",
              "    </tr>\n",
              "    <tr>\n",
              "      <th></th>\n",
              "      <th>count</th>\n",
              "      <th>count</th>\n",
              "      <th>count</th>\n",
              "      <th>count</th>\n",
              "      <th>count</th>\n",
              "      <th>count</th>\n",
              "      <th>count</th>\n",
              "      <th>count</th>\n",
              "      <th>count</th>\n",
              "    </tr>\n",
              "    <tr>\n",
              "      <th>RootCause</th>\n",
              "      <th></th>\n",
              "      <th></th>\n",
              "      <th></th>\n",
              "      <th></th>\n",
              "      <th></th>\n",
              "      <th></th>\n",
              "      <th></th>\n",
              "      <th></th>\n",
              "      <th></th>\n",
              "    </tr>\n",
              "  </thead>\n",
              "  <tbody>\n",
              "    <tr>\n",
              "      <th>HDF</th>\n",
              "      <td>106</td>\n",
              "      <td>106</td>\n",
              "      <td>106</td>\n",
              "      <td>106</td>\n",
              "      <td>106</td>\n",
              "      <td>106</td>\n",
              "      <td>106</td>\n",
              "      <td>106</td>\n",
              "      <td>106</td>\n",
              "    </tr>\n",
              "    <tr>\n",
              "      <th>OSF</th>\n",
              "      <td>78</td>\n",
              "      <td>78</td>\n",
              "      <td>78</td>\n",
              "      <td>78</td>\n",
              "      <td>78</td>\n",
              "      <td>78</td>\n",
              "      <td>78</td>\n",
              "      <td>78</td>\n",
              "      <td>78</td>\n",
              "    </tr>\n",
              "    <tr>\n",
              "      <th>PWF</th>\n",
              "      <td>78</td>\n",
              "      <td>78</td>\n",
              "      <td>78</td>\n",
              "      <td>78</td>\n",
              "      <td>78</td>\n",
              "      <td>78</td>\n",
              "      <td>78</td>\n",
              "      <td>78</td>\n",
              "      <td>78</td>\n",
              "    </tr>\n",
              "    <tr>\n",
              "      <th>TWF</th>\n",
              "      <td>43</td>\n",
              "      <td>43</td>\n",
              "      <td>43</td>\n",
              "      <td>43</td>\n",
              "      <td>43</td>\n",
              "      <td>43</td>\n",
              "      <td>43</td>\n",
              "      <td>43</td>\n",
              "      <td>43</td>\n",
              "    </tr>\n",
              "  </tbody>\n",
              "</table>\n",
              "</div>"
            ],
            "text/plain": [
              "           Type Tool wear [min] Temp Diff Power   TWF   OSF   HDF   PWF Length\n",
              "          count           count     count count count count count count  count\n",
              "RootCause                                                                     \n",
              "HDF         106             106       106   106   106   106   106   106    106\n",
              "OSF          78              78        78    78    78    78    78    78     78\n",
              "PWF          78              78        78    78    78    78    78    78     78\n",
              "TWF          43              43        43    43    43    43    43    43     43"
            ]
          },
          "metadata": {},
          "execution_count": 127
        }
      ]
    },
    {
      "cell_type": "code",
      "metadata": {
        "colab": {
          "base_uri": "https://localhost:8080/"
        },
        "id": "km8VwtrGZAil",
        "outputId": "0cb53413-fcc6-4e34-a510-45a98117b19d"
      },
      "source": [
        "df9= df9[df9['RootCause']!=''] # removing RNF as its not important\n",
        "df9.shape\n",
        "\n"
      ],
      "execution_count": 121,
      "outputs": [
        {
          "output_type": "execute_result",
          "data": {
            "text/plain": [
              "(328, 9)"
            ]
          },
          "metadata": {},
          "execution_count": 121
        }
      ]
    },
    {
      "cell_type": "code",
      "metadata": {
        "id": "KHgoN6r-ZdTY"
      },
      "source": [
        "df9['Length']= df9['RootCause'].str.len()"
      ],
      "execution_count": 124,
      "outputs": []
    },
    {
      "cell_type": "code",
      "metadata": {
        "colab": {
          "base_uri": "https://localhost:8080/"
        },
        "id": "yLi3ibLZZgWP",
        "outputId": "7d1dce7c-dcde-4925-d476-79444a80373a"
      },
      "source": [
        "df9= df9[df9['Length']<=3] # Predicting single failure type as of now, not considering multiple failure types \n",
        "df9.shape"
      ],
      "execution_count": 126,
      "outputs": [
        {
          "output_type": "execute_result",
          "data": {
            "text/plain": [
              "(305, 10)"
            ]
          },
          "metadata": {},
          "execution_count": 126
        }
      ]
    },
    {
      "cell_type": "code",
      "metadata": {
        "id": "3vWRxoxOa5Ru"
      },
      "source": [
        "df9= df9.drop(['TWF',\t'OSF',\t'HDF',\t'PWF','Length'], axis=1) # removing unwanted columns, using single columns as Root Cause and doing Multi class classification model\n"
      ],
      "execution_count": 128,
      "outputs": []
    },
    {
      "cell_type": "code",
      "metadata": {
        "colab": {
          "base_uri": "https://localhost:8080/",
          "height": 203
        },
        "id": "BBRVvrRabbmo",
        "outputId": "bd289371-7236-4894-b8b1-e59a1d4d3173"
      },
      "source": [
        "dummies = pd.get_dummies(df9['Type'])\n",
        "dummies.head()"
      ],
      "execution_count": 133,
      "outputs": [
        {
          "output_type": "execute_result",
          "data": {
            "text/html": [
              "<div>\n",
              "<style scoped>\n",
              "    .dataframe tbody tr th:only-of-type {\n",
              "        vertical-align: middle;\n",
              "    }\n",
              "\n",
              "    .dataframe tbody tr th {\n",
              "        vertical-align: top;\n",
              "    }\n",
              "\n",
              "    .dataframe thead th {\n",
              "        text-align: right;\n",
              "    }\n",
              "</style>\n",
              "<table border=\"1\" class=\"dataframe\">\n",
              "  <thead>\n",
              "    <tr style=\"text-align: right;\">\n",
              "      <th></th>\n",
              "      <th>H</th>\n",
              "      <th>L</th>\n",
              "      <th>M</th>\n",
              "    </tr>\n",
              "  </thead>\n",
              "  <tbody>\n",
              "    <tr>\n",
              "      <th>50</th>\n",
              "      <td>0</td>\n",
              "      <td>1</td>\n",
              "      <td>0</td>\n",
              "    </tr>\n",
              "    <tr>\n",
              "      <th>77</th>\n",
              "      <td>0</td>\n",
              "      <td>1</td>\n",
              "      <td>0</td>\n",
              "    </tr>\n",
              "    <tr>\n",
              "      <th>160</th>\n",
              "      <td>0</td>\n",
              "      <td>1</td>\n",
              "      <td>0</td>\n",
              "    </tr>\n",
              "    <tr>\n",
              "      <th>161</th>\n",
              "      <td>0</td>\n",
              "      <td>1</td>\n",
              "      <td>0</td>\n",
              "    </tr>\n",
              "    <tr>\n",
              "      <th>168</th>\n",
              "      <td>0</td>\n",
              "      <td>1</td>\n",
              "      <td>0</td>\n",
              "    </tr>\n",
              "  </tbody>\n",
              "</table>\n",
              "</div>"
            ],
            "text/plain": [
              "     H  L  M\n",
              "50   0  1  0\n",
              "77   0  1  0\n",
              "160  0  1  0\n",
              "161  0  1  0\n",
              "168  0  1  0"
            ]
          },
          "metadata": {},
          "execution_count": 133
        }
      ]
    },
    {
      "cell_type": "code",
      "metadata": {
        "colab": {
          "base_uri": "https://localhost:8080/",
          "height": 203
        },
        "id": "5wFRQhH6b_tb",
        "outputId": "1d207429-8d0e-455b-e58e-429ffa6e7151"
      },
      "source": [
        "dummies = dummies.drop(['L'],axis=1)\n",
        "dummies.head()"
      ],
      "execution_count": 135,
      "outputs": [
        {
          "output_type": "execute_result",
          "data": {
            "text/html": [
              "<div>\n",
              "<style scoped>\n",
              "    .dataframe tbody tr th:only-of-type {\n",
              "        vertical-align: middle;\n",
              "    }\n",
              "\n",
              "    .dataframe tbody tr th {\n",
              "        vertical-align: top;\n",
              "    }\n",
              "\n",
              "    .dataframe thead th {\n",
              "        text-align: right;\n",
              "    }\n",
              "</style>\n",
              "<table border=\"1\" class=\"dataframe\">\n",
              "  <thead>\n",
              "    <tr style=\"text-align: right;\">\n",
              "      <th></th>\n",
              "      <th>H</th>\n",
              "      <th>M</th>\n",
              "    </tr>\n",
              "  </thead>\n",
              "  <tbody>\n",
              "    <tr>\n",
              "      <th>50</th>\n",
              "      <td>0</td>\n",
              "      <td>0</td>\n",
              "    </tr>\n",
              "    <tr>\n",
              "      <th>77</th>\n",
              "      <td>0</td>\n",
              "      <td>0</td>\n",
              "    </tr>\n",
              "    <tr>\n",
              "      <th>160</th>\n",
              "      <td>0</td>\n",
              "      <td>0</td>\n",
              "    </tr>\n",
              "    <tr>\n",
              "      <th>161</th>\n",
              "      <td>0</td>\n",
              "      <td>0</td>\n",
              "    </tr>\n",
              "    <tr>\n",
              "      <th>168</th>\n",
              "      <td>0</td>\n",
              "      <td>0</td>\n",
              "    </tr>\n",
              "  </tbody>\n",
              "</table>\n",
              "</div>"
            ],
            "text/plain": [
              "     H  M\n",
              "50   0  0\n",
              "77   0  0\n",
              "160  0  0\n",
              "161  0  0\n",
              "168  0  0"
            ]
          },
          "metadata": {},
          "execution_count": 135
        }
      ]
    },
    {
      "cell_type": "code",
      "metadata": {
        "colab": {
          "base_uri": "https://localhost:8080/",
          "height": 417
        },
        "id": "IiAXQJpacG3w",
        "outputId": "a7cd7c87-31d0-40ed-ed63-2f78dea305a4"
      },
      "source": [
        "df9 = pd.concat([df9, dummies], axis=1)\n",
        "display(df9)"
      ],
      "execution_count": 136,
      "outputs": [
        {
          "output_type": "display_data",
          "data": {
            "text/html": [
              "<div>\n",
              "<style scoped>\n",
              "    .dataframe tbody tr th:only-of-type {\n",
              "        vertical-align: middle;\n",
              "    }\n",
              "\n",
              "    .dataframe tbody tr th {\n",
              "        vertical-align: top;\n",
              "    }\n",
              "\n",
              "    .dataframe thead th {\n",
              "        text-align: right;\n",
              "    }\n",
              "</style>\n",
              "<table border=\"1\" class=\"dataframe\">\n",
              "  <thead>\n",
              "    <tr style=\"text-align: right;\">\n",
              "      <th></th>\n",
              "      <th>Type</th>\n",
              "      <th>Tool wear [min]</th>\n",
              "      <th>Temp Diff</th>\n",
              "      <th>Power</th>\n",
              "      <th>RootCause</th>\n",
              "      <th>H</th>\n",
              "      <th>M</th>\n",
              "    </tr>\n",
              "  </thead>\n",
              "  <tbody>\n",
              "    <tr>\n",
              "      <th>50</th>\n",
              "      <td>L</td>\n",
              "      <td>143.0</td>\n",
              "      <td>10.2</td>\n",
              "      <td>3.836325</td>\n",
              "      <td>PWF</td>\n",
              "      <td>0</td>\n",
              "      <td>0</td>\n",
              "    </tr>\n",
              "    <tr>\n",
              "      <th>77</th>\n",
              "      <td>L</td>\n",
              "      <td>208.0</td>\n",
              "      <td>10.1</td>\n",
              "      <td>6.293622</td>\n",
              "      <td>TWF</td>\n",
              "      <td>0</td>\n",
              "      <td>0</td>\n",
              "    </tr>\n",
              "    <tr>\n",
              "      <th>160</th>\n",
              "      <td>L</td>\n",
              "      <td>216.0</td>\n",
              "      <td>9.8</td>\n",
              "      <td>8.150126</td>\n",
              "      <td>OSF</td>\n",
              "      <td>0</td>\n",
              "      <td>0</td>\n",
              "    </tr>\n",
              "    <tr>\n",
              "      <th>161</th>\n",
              "      <td>L</td>\n",
              "      <td>218.0</td>\n",
              "      <td>9.8</td>\n",
              "      <td>7.734353</td>\n",
              "      <td>OSF</td>\n",
              "      <td>0</td>\n",
              "      <td>0</td>\n",
              "    </tr>\n",
              "    <tr>\n",
              "      <th>168</th>\n",
              "      <td>L</td>\n",
              "      <td>20.0</td>\n",
              "      <td>9.9</td>\n",
              "      <td>8.824600</td>\n",
              "      <td>PWF</td>\n",
              "      <td>0</td>\n",
              "      <td>0</td>\n",
              "    </tr>\n",
              "    <tr>\n",
              "      <th>...</th>\n",
              "      <td>...</td>\n",
              "      <td>...</td>\n",
              "      <td>...</td>\n",
              "      <td>...</td>\n",
              "      <td>...</td>\n",
              "      <td>...</td>\n",
              "      <td>...</td>\n",
              "    </tr>\n",
              "    <tr>\n",
              "      <th>9667</th>\n",
              "      <td>L</td>\n",
              "      <td>222.0</td>\n",
              "      <td>11.1</td>\n",
              "      <td>6.924256</td>\n",
              "      <td>OSF</td>\n",
              "      <td>0</td>\n",
              "      <td>0</td>\n",
              "    </tr>\n",
              "    <tr>\n",
              "      <th>9758</th>\n",
              "      <td>L</td>\n",
              "      <td>218.0</td>\n",
              "      <td>11.2</td>\n",
              "      <td>3.853184</td>\n",
              "      <td>TWF</td>\n",
              "      <td>0</td>\n",
              "      <td>0</td>\n",
              "    </tr>\n",
              "    <tr>\n",
              "      <th>9764</th>\n",
              "      <td>L</td>\n",
              "      <td>12.0</td>\n",
              "      <td>11.0</td>\n",
              "      <td>8.824600</td>\n",
              "      <td>PWF</td>\n",
              "      <td>0</td>\n",
              "      <td>0</td>\n",
              "    </tr>\n",
              "    <tr>\n",
              "      <th>9822</th>\n",
              "      <td>L</td>\n",
              "      <td>187.0</td>\n",
              "      <td>10.9</td>\n",
              "      <td>8.674487</td>\n",
              "      <td>OSF</td>\n",
              "      <td>0</td>\n",
              "      <td>0</td>\n",
              "    </tr>\n",
              "    <tr>\n",
              "      <th>9830</th>\n",
              "      <td>L</td>\n",
              "      <td>206.0</td>\n",
              "      <td>11.0</td>\n",
              "      <td>7.855645</td>\n",
              "      <td>OSF</td>\n",
              "      <td>0</td>\n",
              "      <td>0</td>\n",
              "    </tr>\n",
              "  </tbody>\n",
              "</table>\n",
              "<p>305 rows × 7 columns</p>\n",
              "</div>"
            ],
            "text/plain": [
              "     Type  Tool wear [min]  Temp Diff     Power RootCause  H  M\n",
              "50      L            143.0       10.2  3.836325       PWF  0  0\n",
              "77      L            208.0       10.1  6.293622       TWF  0  0\n",
              "160     L            216.0        9.8  8.150126       OSF  0  0\n",
              "161     L            218.0        9.8  7.734353       OSF  0  0\n",
              "168     L             20.0        9.9  8.824600       PWF  0  0\n",
              "...   ...              ...        ...       ...       ... .. ..\n",
              "9667    L            222.0       11.1  6.924256       OSF  0  0\n",
              "9758    L            218.0       11.2  3.853184       TWF  0  0\n",
              "9764    L             12.0       11.0  8.824600       PWF  0  0\n",
              "9822    L            187.0       10.9  8.674487       OSF  0  0\n",
              "9830    L            206.0       11.0  7.855645       OSF  0  0\n",
              "\n",
              "[305 rows x 7 columns]"
            ]
          },
          "metadata": {}
        }
      ]
    },
    {
      "cell_type": "code",
      "metadata": {
        "id": "MZUIgnX7c-6A"
      },
      "source": [
        "df9 = df9.drop(['Type'], axis=1)"
      ],
      "execution_count": 139,
      "outputs": []
    },
    {
      "cell_type": "code",
      "metadata": {
        "colab": {
          "base_uri": "https://localhost:8080/"
        },
        "id": "KgzGJAJTca5e",
        "outputId": "b8966dad-63bd-431a-f5ce-7548f89cb6fe"
      },
      "source": [
        "from sklearn.model_selection import train_test_split\n",
        "\n",
        "x= df9.drop(['RootCause'],axis=1)\n",
        "y= df9.RootCause\n",
        "xtrain, xtest,ytrain,ytest = train_test_split(x,y, test_size=0.2, random_state=110)\n",
        "len(xtest)"
      ],
      "execution_count": 140,
      "outputs": [
        {
          "output_type": "execute_result",
          "data": {
            "text/plain": [
              "61"
            ]
          },
          "metadata": {},
          "execution_count": 140
        }
      ]
    },
    {
      "cell_type": "code",
      "metadata": {
        "colab": {
          "base_uri": "https://localhost:8080/"
        },
        "id": "SGb7cC5wcyeg",
        "outputId": "694d49cb-c669-4722-8e3a-30009cd800d8"
      },
      "source": [
        "from sklearn.linear_model import LogisticRegression\n",
        "model = LogisticRegression(solver='newton-cg')\n",
        "model.fit(xtrain,ytrain)\n",
        "\n",
        "from sklearn.model_selection import cross_val_score\n",
        "clf = LogisticRegression(solver='newton-cg', random_state=42)\n",
        "scores = cross_val_score(clf, x, y, cv=5)\n",
        "scores"
      ],
      "execution_count": 167,
      "outputs": [
        {
          "output_type": "execute_result",
          "data": {
            "text/plain": [
              "array([0.90163934, 0.95081967, 0.75409836, 0.95081967, 0.95081967])"
            ]
          },
          "metadata": {},
          "execution_count": 167
        }
      ]
    },
    {
      "cell_type": "code",
      "metadata": {
        "colab": {
          "base_uri": "https://localhost:8080/"
        },
        "id": "LbRmjBdAdEKP",
        "outputId": "35fd3790-2a32-47c2-b0da-884af7756606"
      },
      "source": [
        "model.score(xtest,ytest)"
      ],
      "execution_count": 169,
      "outputs": [
        {
          "output_type": "execute_result",
          "data": {
            "text/plain": [
              "0.9016393442622951"
            ]
          },
          "metadata": {},
          "execution_count": 169
        }
      ]
    },
    {
      "cell_type": "code",
      "metadata": {
        "colab": {
          "base_uri": "https://localhost:8080/"
        },
        "id": "S4yM80UIdIkd",
        "outputId": "395676ca-f92b-43dc-8471-0a2305dbef78"
      },
      "source": [
        "ypred=model.predict(xtest)\n",
        "from sklearn.metrics import confusion_matrix\n",
        "cm= confusion_matrix(ytest,ypred)\n",
        "cm\n"
      ],
      "execution_count": 153,
      "outputs": [
        {
          "output_type": "execute_result",
          "data": {
            "text/plain": [
              "array([[14,  0,  0,  3],\n",
              "       [ 1, 22,  0,  0],\n",
              "       [ 0,  0, 13,  1],\n",
              "       [ 1,  0,  0,  6]])"
            ]
          },
          "metadata": {},
          "execution_count": 153
        }
      ]
    },
    {
      "cell_type": "code",
      "metadata": {
        "colab": {
          "base_uri": "https://localhost:8080/",
          "height": 459
        },
        "id": "tScOasIadKDY",
        "outputId": "26c97f6c-527c-4a9f-efda-7af7e68f11d9"
      },
      "source": [
        "# visualizing the confusion matrix using Seaborn library in python\n",
        "import seaborn as sn\n",
        "plt.figure(figsize=(10,7))\n",
        "sn.heatmap(cm, annot=True)\n",
        "plt.xlabel('Predicted')\n",
        "plt.ylabel('Truth')"
      ],
      "execution_count": 154,
      "outputs": [
        {
          "output_type": "execute_result",
          "data": {
            "text/plain": [
              "Text(69.0, 0.5, 'Truth')"
            ]
          },
          "metadata": {},
          "execution_count": 154
        },
        {
          "output_type": "display_data",
          "data": {
            "image/png": "[encoded data removed]",
            "text/plain": [
              "<Figure size 720x504 with 2 Axes>"
            ]
          },
          "metadata": {}
        }
      ]
    },
    {
      "cell_type": "code",
      "metadata": {
        "colab": {
          "base_uri": "https://localhost:8080/",
          "height": 203
        },
        "id": "Kp9gux-BeFT8",
        "outputId": "f20176ed-9b18-4660-a393-237826f3776f"
      },
      "source": [
        "pd.DataFrame(zip(xtrain.columns, np.transpose(model.coef_.tolist()[0])), columns=['features', 'coef'])"
      ],
      "execution_count": 166,
      "outputs": [
        {
          "output_type": "execute_result",
          "data": {
            "text/html": [
              "<div>\n",
              "<style scoped>\n",
              "    .dataframe tbody tr th:only-of-type {\n",
              "        vertical-align: middle;\n",
              "    }\n",
              "\n",
              "    .dataframe tbody tr th {\n",
              "        vertical-align: top;\n",
              "    }\n",
              "\n",
              "    .dataframe thead th {\n",
              "        text-align: right;\n",
              "    }\n",
              "</style>\n",
              "<table border=\"1\" class=\"dataframe\">\n",
              "  <thead>\n",
              "    <tr style=\"text-align: right;\">\n",
              "      <th></th>\n",
              "      <th>features</th>\n",
              "      <th>coef</th>\n",
              "    </tr>\n",
              "  </thead>\n",
              "  <tbody>\n",
              "    <tr>\n",
              "      <th>0</th>\n",
              "      <td>Tool wear [min]</td>\n",
              "      <td>-0.102824</td>\n",
              "    </tr>\n",
              "    <tr>\n",
              "      <th>1</th>\n",
              "      <td>Temp Diff</td>\n",
              "      <td>-3.276188</td>\n",
              "    </tr>\n",
              "    <tr>\n",
              "      <th>2</th>\n",
              "      <td>Power</td>\n",
              "      <td>-0.677367</td>\n",
              "    </tr>\n",
              "    <tr>\n",
              "      <th>3</th>\n",
              "      <td>H</td>\n",
              "      <td>0.051012</td>\n",
              "    </tr>\n",
              "    <tr>\n",
              "      <th>4</th>\n",
              "      <td>M</td>\n",
              "      <td>-0.206298</td>\n",
              "    </tr>\n",
              "  </tbody>\n",
              "</table>\n",
              "</div>"
            ],
            "text/plain": [
              "          features      coef\n",
              "0  Tool wear [min] -0.102824\n",
              "1        Temp Diff -3.276188\n",
              "2            Power -0.677367\n",
              "3                H  0.051012\n",
              "4                M -0.206298"
            ]
          },
          "metadata": {},
          "execution_count": 166
        }
      ]
    }
  ]
}